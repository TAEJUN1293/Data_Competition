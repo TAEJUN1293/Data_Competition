{
 "cells": [
  {
   "cell_type": "code",
   "execution_count": 1,
   "id": "0af1de0e",
   "metadata": {},
   "outputs": [],
   "source": [
    "import pandas as pd\n",
    "import numpy as np\n",
    "import seaborn as sns\n",
    "import matplotlib.pyplot as plt\n",
    "import warnings\n",
    "warnings.filterwarnings(action = 'ignore')\n",
    "warnings.filterwarnings('ignore')"
   ]
  },
  {
   "cell_type": "code",
   "execution_count": 2,
   "id": "3937ac7d",
   "metadata": {},
   "outputs": [],
   "source": [
    "# 한글꺠지는 것 방지\n",
    "from matplotlib import font_manager, rc\n",
    "font_path = \"C:/Windows/Fonts/NGULIM.TTF\"\n",
    "font = font_manager.FontProperties(fname=font_path).get_name()\n",
    "rc('font', family=font)"
   ]
  },
  {
   "cell_type": "markdown",
   "id": "aac12590",
   "metadata": {},
   "source": [
    "# Data Loading"
   ]
  },
  {
   "cell_type": "code",
   "execution_count": 3,
   "id": "2d3c7269",
   "metadata": {},
   "outputs": [],
   "source": [
    "demo = pd.read_csv('C:/Users/wnrrh/Desktop/태준/롯데멤버스/LPOINT_BIG_COMP_01_DEMO.csv', encoding = 'utf-8', delimiter = ',')\n",
    "pdde = pd.read_csv('C:/Users/wnrrh/Desktop/태준/롯데멤버스/LPOINT_BIG_COMP_02_PDDE.csv', encoding = 'utf-8', delimiter = ',')\n",
    "copu = pd.read_csv('C:/Users/wnrrh/Desktop/태준/롯데멤버스/LPOINT_BIG_COMP_03_COP_U.csv', encoding = 'utf-8', delimiter = ',')\n",
    "clac = pd.read_csv('C:/Users/wnrrh/Desktop/태준/롯데멤버스/LPOINT_BIG_COMP_04_PD_CLAC.csv', encoding = 'utf-8', delimiter = ',')\n",
    "br = pd.read_csv('C:/Users/wnrrh/Desktop/태준/롯데멤버스/LPOINT_BIG_COMP_05_BR.csv', encoding = 'utf-8', delimiter = ',')\n",
    "lpay = pd.read_csv('C:/Users/wnrrh/Desktop/태준/롯데멤버스/LPOINT_BIG_COMP_06_LPAY.csv', encoding = 'utf-8', delimiter = ',')"
   ]
  },
  {
   "cell_type": "code",
   "execution_count": 4,
   "id": "0a81b020",
   "metadata": {},
   "outputs": [],
   "source": [
    "demo.rename(columns={'cust':'고객코드', 'ma_fem_dv':'성별', 'ages':'연령대', 'zon_hlv':'거주지대분류코드'},inplace=True)\n",
    "pdde.rename(columns = {'cust':'고객코드', 'rct_no':'영수증번호', 'chnl_dv':'채널구분', 'cop_c':'제휴사', 'br_c':'점포코드', 'pd_c':'상품코드', 'de_dt':'구매일자', 'de_hr':'구매시간', 'buy_am':'구매금액', 'buy_ct':'구매수량'}, inplace=True)\n",
    "copu.rename(columns = {'cust':'고객코드', 'rct_no':'영수증번호', 'chnl_dv':'채널구분', 'cop_c':'제휴사', 'br_c':'점포코드', 'pd_c':'상품코드', 'de_dt':'구매일자', 'vst_dt':'제휴사 방문일자', 'de_hr':'구매시간', 'buy_am':'구매금액'}, inplace=True)\n",
    "clac.rename(columns = {'pd_c':'상품코드','pd_nm':'상품 소분류명', 'clac_hlv_nm':'상품 대분류명','clac_mcls_nm':'상품 중분류명'},inplace=True)\n",
    "br.rename(columns = {'br_c':'점포코드', 'cop_c':'제휴사', 'zon_hlv':'점포지역대분류코드','zon_mcls':'점포지역중분류코드'},inplace=True)\n",
    "lpay.rename(columns = {'cust':'고객코드','rct_no':'영수증번호', 'cop_c':'제휴사', 'chnl_dv':'채널구분','de_dt':'구매일자', 'de_hr':'구매시간', 'buy_am':'구매금액'},inplace=True)"
   ]
  },
  {
   "cell_type": "code",
   "execution_count": 5,
   "id": "6cec8f94",
   "metadata": {},
   "outputs": [
    {
     "data": {
      "text/plain": [
       "<AxesSubplot:>"
      ]
     },
     "execution_count": 5,
     "metadata": {},
     "output_type": "execute_result"
    },
    {
     "data": {
      "image/png": "[encoded data removed]",
      "text/plain": [
       "<Figure size 1080x1080 with 2 Axes>"
      ]
     },
     "metadata": {
      "needs_background": "light"
     },
     "output_type": "display_data"
    }
   ],
   "source": [
    "plt.figure(figsize=(15,15))\n",
    "sns.heatmap(data = copu.corr(), annot=True, \n",
    "fmt = '.2f', linewidths=.5, cmap='Blues')"
   ]
  },
  {
   "cell_type": "code",
   "execution_count": 6,
   "id": "2825ed92",
   "metadata": {},
   "outputs": [],
   "source": [
    "pdde['타입'] = 'Product'\n",
    "copu['타입'] = 'Affiliate'\n",
    "lpay['타입'] = 'Lpay'\n",
    "copu['구매수량'] = 0\n",
    "copu['상품코드'] = np.nan\n",
    "lpay['점포코드'] = np.nan\n",
    "lpay['상품코드'] = np.nan\n",
    "lpay['구매수량'] = 0"
   ]
  },
  {
   "cell_type": "code",
   "execution_count": 7,
   "id": "a4f844ad",
   "metadata": {},
   "outputs": [],
   "source": [
    "copu = copu[['고객코드','영수증번호','채널구분','제휴사','점포코드','상품코드','구매일자','구매시간','구매금액','구매수량','타입']]\n",
    "lpay = lpay[['고객코드','영수증번호','채널구분','제휴사','점포코드','상품코드','구매일자','구매시간','구매금액','구매수량','타입']]"
   ]
  },
  {
   "cell_type": "code",
   "execution_count": 8,
   "id": "84db43bb",
   "metadata": {},
   "outputs": [],
   "source": [
    "lpay['영수증번호'] = lpay['영수증번호'].astype('object')\n",
    "lpay['점포코드'] = lpay['점포코드'].astype('object')\n",
    "copu['상품코드'] = copu['상품코드'].astype('object')\n",
    "lpay['상품코드'] = lpay['상품코드'].astype('object')\n",
    "pdde['구매금액'] = pdde['구매금액'].astype('int')"
   ]
  },
  {
   "cell_type": "code",
   "execution_count": 9,
   "id": "ecbc9514",
   "metadata": {},
   "outputs": [],
   "source": [
    "df = pd.concat([pdde,copu,lpay])"
   ]
  },
  {
   "cell_type": "code",
   "execution_count": 10,
   "id": "02d378bd",
   "metadata": {},
   "outputs": [],
   "source": [
    "df = pd.merge(df,demo, on = ['고객코드'], how = 'left')"
   ]
  },
  {
   "cell_type": "code",
   "execution_count": 11,
   "id": "16f1995b",
   "metadata": {},
   "outputs": [],
   "source": [
    "df = pd.merge(df,br, on = ['점포코드','제휴사'], how = 'left')"
   ]
  },
  {
   "cell_type": "code",
   "execution_count": 12,
   "id": "d51b72dd",
   "metadata": {},
   "outputs": [],
   "source": [
    "df = pd.merge(df,clac, on = ['상품코드'], how = 'left')"
   ]
  },
  {
   "cell_type": "code",
   "execution_count": 13,
   "id": "c839f784",
   "metadata": {},
   "outputs": [
    {
     "data": {
      "text/plain": [
       "고객코드              0\n",
       "영수증번호             0\n",
       "채널구분              0\n",
       "제휴사               0\n",
       "점포코드         781740\n",
       "상품코드         601488\n",
       "구매일자              0\n",
       "구매시간              0\n",
       "구매금액              0\n",
       "구매수량              0\n",
       "타입                0\n",
       "성별                0\n",
       "연령대               0\n",
       "거주지대분류코드          0\n",
       "점포지역대분류코드    781740\n",
       "점포지역중분류코드    781740\n",
       "상품 소분류명      601488\n",
       "상품 대분류명      601488\n",
       "상품 중분류명      601488\n",
       "dtype: int64"
      ]
     },
     "execution_count": 13,
     "metadata": {},
     "output_type": "execute_result"
    }
   ],
   "source": [
    "df.isnull().sum()"
   ]
  },
  {
   "cell_type": "markdown",
   "id": "f00c47d8",
   "metadata": {},
   "source": [
    "## 결측치 왜 생겼는지 확인 "
   ]
  },
  {
   "cell_type": "code",
   "execution_count": 14,
   "id": "84e2920d",
   "metadata": {},
   "outputs": [
    {
     "name": "stdout",
     "output_type": "stream",
     "text": [
      "고객코드          0\n",
      "영수증번호         0\n",
      "채널구분          0\n",
      "제휴사           0\n",
      "점포코드     353184\n",
      "상품코드     353184\n",
      "구매일자          0\n",
      "구매시간          0\n",
      "구매금액          0\n",
      "구매수량          0\n",
      "타입            0\n",
      "dtype: int64\n",
      "------------------------------\n",
      "고객코드          0\n",
      "영수증번호         0\n",
      "채널구분          0\n",
      "제휴사           0\n",
      "점포코드         55\n",
      "상품코드     248304\n",
      "구매일자          0\n",
      "구매시간          0\n",
      "구매금액          0\n",
      "구매수량          0\n",
      "타입            0\n",
      "dtype: int64\n",
      "------------------------------\n",
      "고객코드          0\n",
      "영수증번호         0\n",
      "채널구분          0\n",
      "제휴사           0\n",
      "점포코드     428501\n",
      "상품코드          0\n",
      "구매일자          0\n",
      "구매시간          0\n",
      "구매금액          0\n",
      "구매수량          0\n",
      "타입            0\n",
      "dtype: int64\n"
     ]
    }
   ],
   "source": [
    "print(lpay.isnull().sum())\n",
    "print('------------------------------')\n",
    "print(copu.isnull().sum())\n",
    "print('------------------------------')\n",
    "print(pdde.isnull().sum())"
   ]
  },
  {
   "cell_type": "markdown",
   "id": "5e6a1c5a",
   "metadata": {},
   "source": [
    "# 데이터프레임 분할하여 엘페이 이력 중복처리 "
   ]
  },
  {
   "cell_type": "code",
   "execution_count": 15,
   "id": "4529a682",
   "metadata": {},
   "outputs": [],
   "source": [
    "df_product = df[df['타입'] == 'Product']\n",
    "df_aff = df[df['타입'] == 'Affiliate']\n",
    "df_lpay = df[df['타입'] == 'Lpay']"
   ]
  },
  {
   "cell_type": "code",
   "execution_count": 16,
   "id": "74e40ba8",
   "metadata": {},
   "outputs": [],
   "source": [
    "# 한 row 내 모든 데이터 값이 동일한 row인 경우 중복제거 처리 첫값은 False, 이후 중복되면 False\n",
    "product_row = df_product.duplicated(['고객코드','영수증번호','채널구분','제휴사','점포코드','상품코드','구매일자','구매시간','구매금액','구매수량','타입','성별','연령대','거주지대분류코드','점포지역대분류코드','점포지역중분류코드','상품 소분류명','상품 대분류명', '상품 중분류명'], keep='first')"
   ]
  },
  {
   "cell_type": "code",
   "execution_count": 17,
   "id": "a217d62c",
   "metadata": {},
   "outputs": [],
   "source": [
    "df_product = pd.concat([df_product, product_row], axis=1)"
   ]
  },
  {
   "cell_type": "code",
   "execution_count": 18,
   "id": "5f90d03f",
   "metadata": {},
   "outputs": [
    {
     "data": {
      "text/plain": [
       "False    4144389\n",
       "True      237354\n",
       "Name: 0, dtype: int64"
      ]
     },
     "execution_count": 18,
     "metadata": {},
     "output_type": "execute_result"
    }
   ],
   "source": [
    "df_product[0].value_counts()"
   ]
  },
  {
   "cell_type": "code",
   "execution_count": 19,
   "id": "e7d6a127",
   "metadata": {},
   "outputs": [],
   "source": [
    "# 중복값 제거 \n",
    "df_product.rename(columns = {0:'중복값 기준'},inplace=True)"
   ]
  },
  {
   "cell_type": "code",
   "execution_count": 20,
   "id": "2959a523",
   "metadata": {},
   "outputs": [],
   "source": [
    "idx = df_product[df_product['중복값 기준'] == True].index\n",
    "df_product.drop(idx, axis=0, inplace=True)\n",
    "df_product.reset_index(drop=True , inplace=True)"
   ]
  },
  {
   "cell_type": "code",
   "execution_count": 21,
   "id": "4e11b9b5",
   "metadata": {},
   "outputs": [],
   "source": [
    "df_product.drop(['중복값 기준'], axis=1, inplace=True)"
   ]
  },
  {
   "cell_type": "code",
   "execution_count": 22,
   "id": "2f5f6c0c",
   "metadata": {},
   "outputs": [],
   "source": [
    "### 제휴사 이용정보, 제품 구매정보에 엘페이 데이터 merge\n",
    "df_lpay.drop(['점포코드','상품코드','점포지역대분류코드','구매수량','점포지역중분류코드','상품 소분류명','상품 대분류명','상품 중분류명','타입'],axis=1, inplace=True)"
   ]
  },
  {
   "cell_type": "code",
   "execution_count": 23,
   "id": "e0fb7f7b",
   "metadata": {},
   "outputs": [],
   "source": [
    "df_lpay.rename(columns = {'영수증번호':'엘페이 결제번호'},inplace=True)\n",
    "df_lpay['엘페이 결제이력'] = 1"
   ]
  },
  {
   "cell_type": "markdown",
   "id": "79a39305",
   "metadata": {},
   "source": [
    "### 유통사, 제휴사 이용정보에 엘페이 merge"
   ]
  },
  {
   "cell_type": "code",
   "execution_count": 24,
   "id": "024521a6",
   "metadata": {},
   "outputs": [],
   "source": [
    "# 제휴사 merge\n",
    "df_aff.reset_index(drop=True,inplace=True)\n",
    "df_aff.reset_index(drop=False,inplace=True)"
   ]
  },
  {
   "cell_type": "code",
   "execution_count": 25,
   "id": "10341fe6",
   "metadata": {},
   "outputs": [],
   "source": [
    "df_aff = pd.merge(df_aff, df_lpay, on = ['고객코드','채널구분','제휴사','구매일자','구매시간','구매금액','성별','연령대','거주지대분류코드'], how = 'left')"
   ]
  },
  {
   "cell_type": "code",
   "execution_count": 26,
   "id": "49c746ca",
   "metadata": {},
   "outputs": [],
   "source": [
    "df_aff = df_aff.drop_duplicates(['index'], keep='first')"
   ]
  },
  {
   "cell_type": "code",
   "execution_count": 27,
   "id": "e050b773",
   "metadata": {},
   "outputs": [],
   "source": [
    "df_aff.drop(['index'],axis=1,inplace=True)\n",
    "df_aff.reset_index(drop=True, inplace=True)"
   ]
  },
  {
   "cell_type": "code",
   "execution_count": 28,
   "id": "e892c939",
   "metadata": {},
   "outputs": [],
   "source": [
    "df_product.reset_index(drop=False, inplace=True)"
   ]
  },
  {
   "cell_type": "code",
   "execution_count": 29,
   "id": "d3ca867e",
   "metadata": {},
   "outputs": [],
   "source": [
    "df_product = pd.merge(df_product, df_lpay, on = ['고객코드','채널구분','제휴사','구매일자','구매시간','구매금액','성별','연령대','거주지대분류코드'], how = 'left')"
   ]
  },
  {
   "cell_type": "code",
   "execution_count": 30,
   "id": "535b5786",
   "metadata": {},
   "outputs": [],
   "source": [
    "df_product.drop_duplicates(['index'], keep='first',inplace=True)\n",
    "df_product.reset_index(drop=True,inplace=True)"
   ]
  },
  {
   "cell_type": "code",
   "execution_count": 31,
   "id": "4f32bfd4",
   "metadata": {},
   "outputs": [],
   "source": [
    "df_product.drop(['index'],axis=1,inplace=True)"
   ]
  },
  {
   "cell_type": "code",
   "execution_count": 32,
   "id": "6439100f",
   "metadata": {},
   "outputs": [],
   "source": [
    "df = pd.concat([df_product, df_aff],axis=0)"
   ]
  },
  {
   "cell_type": "code",
   "execution_count": 33,
   "id": "b64974cb",
   "metadata": {},
   "outputs": [
    {
     "data": {
      "text/html": [
       "<div>\n",
       "<style scoped>\n",
       "    .dataframe tbody tr th:only-of-type {\n",
       "        vertical-align: middle;\n",
       "    }\n",
       "\n",
       "    .dataframe tbody tr th {\n",
       "        vertical-align: top;\n",
       "    }\n",
       "\n",
       "    .dataframe thead th {\n",
       "        text-align: right;\n",
       "    }\n",
       "</style>\n",
       "<table border=\"1\" class=\"dataframe\">\n",
       "  <thead>\n",
       "    <tr style=\"text-align: right;\">\n",
       "      <th></th>\n",
       "      <th>고객코드</th>\n",
       "      <th>영수증번호</th>\n",
       "      <th>채널구분</th>\n",
       "      <th>제휴사</th>\n",
       "      <th>점포코드</th>\n",
       "      <th>상품코드</th>\n",
       "      <th>구매일자</th>\n",
       "      <th>구매시간</th>\n",
       "      <th>구매금액</th>\n",
       "      <th>구매수량</th>\n",
       "      <th>...</th>\n",
       "      <th>성별</th>\n",
       "      <th>연령대</th>\n",
       "      <th>거주지대분류코드</th>\n",
       "      <th>점포지역대분류코드</th>\n",
       "      <th>점포지역중분류코드</th>\n",
       "      <th>상품 소분류명</th>\n",
       "      <th>상품 대분류명</th>\n",
       "      <th>상품 중분류명</th>\n",
       "      <th>엘페이 결제번호</th>\n",
       "      <th>엘페이 결제이력</th>\n",
       "    </tr>\n",
       "  </thead>\n",
       "  <tbody>\n",
       "    <tr>\n",
       "      <th>0</th>\n",
       "      <td>M430112881</td>\n",
       "      <td>A01000001113</td>\n",
       "      <td>1</td>\n",
       "      <td>A01</td>\n",
       "      <td>A010039</td>\n",
       "      <td>PD0290</td>\n",
       "      <td>20210101</td>\n",
       "      <td>10</td>\n",
       "      <td>15000</td>\n",
       "      <td>1</td>\n",
       "      <td>...</td>\n",
       "      <td>여성</td>\n",
       "      <td>50대</td>\n",
       "      <td>Z17</td>\n",
       "      <td>Z10</td>\n",
       "      <td>Z10042</td>\n",
       "      <td>남성티셔츠</td>\n",
       "      <td>남성의류</td>\n",
       "      <td>남성의류상의</td>\n",
       "      <td>NaN</td>\n",
       "      <td>NaN</td>\n",
       "    </tr>\n",
       "    <tr>\n",
       "      <th>1</th>\n",
       "      <td>M646853852</td>\n",
       "      <td>A01000002265</td>\n",
       "      <td>1</td>\n",
       "      <td>A01</td>\n",
       "      <td>A010025</td>\n",
       "      <td>PD1369</td>\n",
       "      <td>20210101</td>\n",
       "      <td>10</td>\n",
       "      <td>79700</td>\n",
       "      <td>1</td>\n",
       "      <td>...</td>\n",
       "      <td>여성</td>\n",
       "      <td>40대</td>\n",
       "      <td>Z13</td>\n",
       "      <td>Z13</td>\n",
       "      <td>Z13001</td>\n",
       "      <td>기타주방일회용품</td>\n",
       "      <td>주방잡화</td>\n",
       "      <td>주방일회용품</td>\n",
       "      <td>NaN</td>\n",
       "      <td>NaN</td>\n",
       "    </tr>\n",
       "    <tr>\n",
       "      <th>2</th>\n",
       "      <td>M430112881</td>\n",
       "      <td>A01000003148</td>\n",
       "      <td>1</td>\n",
       "      <td>A01</td>\n",
       "      <td>A010039</td>\n",
       "      <td>PD0290</td>\n",
       "      <td>20210101</td>\n",
       "      <td>10</td>\n",
       "      <td>19000</td>\n",
       "      <td>1</td>\n",
       "      <td>...</td>\n",
       "      <td>여성</td>\n",
       "      <td>50대</td>\n",
       "      <td>Z17</td>\n",
       "      <td>Z10</td>\n",
       "      <td>Z10042</td>\n",
       "      <td>남성티셔츠</td>\n",
       "      <td>남성의류</td>\n",
       "      <td>남성의류상의</td>\n",
       "      <td>NaN</td>\n",
       "      <td>NaN</td>\n",
       "    </tr>\n",
       "    <tr>\n",
       "      <th>3</th>\n",
       "      <td>M430112881</td>\n",
       "      <td>A01000004946</td>\n",
       "      <td>1</td>\n",
       "      <td>A01</td>\n",
       "      <td>A010039</td>\n",
       "      <td>PD0290</td>\n",
       "      <td>20210101</td>\n",
       "      <td>10</td>\n",
       "      <td>19000</td>\n",
       "      <td>1</td>\n",
       "      <td>...</td>\n",
       "      <td>여성</td>\n",
       "      <td>50대</td>\n",
       "      <td>Z17</td>\n",
       "      <td>Z10</td>\n",
       "      <td>Z10042</td>\n",
       "      <td>남성티셔츠</td>\n",
       "      <td>남성의류</td>\n",
       "      <td>남성의류상의</td>\n",
       "      <td>NaN</td>\n",
       "      <td>NaN</td>\n",
       "    </tr>\n",
       "    <tr>\n",
       "      <th>4</th>\n",
       "      <td>M430112881</td>\n",
       "      <td>A01000005297</td>\n",
       "      <td>1</td>\n",
       "      <td>A01</td>\n",
       "      <td>A010039</td>\n",
       "      <td>PD1692</td>\n",
       "      <td>20210101</td>\n",
       "      <td>10</td>\n",
       "      <td>9900</td>\n",
       "      <td>1</td>\n",
       "      <td>...</td>\n",
       "      <td>여성</td>\n",
       "      <td>50대</td>\n",
       "      <td>Z17</td>\n",
       "      <td>Z10</td>\n",
       "      <td>Z10042</td>\n",
       "      <td>커피/음료</td>\n",
       "      <td>테넌트/음식점</td>\n",
       "      <td>식당</td>\n",
       "      <td>NaN</td>\n",
       "      <td>NaN</td>\n",
       "    </tr>\n",
       "    <tr>\n",
       "      <th>...</th>\n",
       "      <td>...</td>\n",
       "      <td>...</td>\n",
       "      <td>...</td>\n",
       "      <td>...</td>\n",
       "      <td>...</td>\n",
       "      <td>...</td>\n",
       "      <td>...</td>\n",
       "      <td>...</td>\n",
       "      <td>...</td>\n",
       "      <td>...</td>\n",
       "      <td>...</td>\n",
       "      <td>...</td>\n",
       "      <td>...</td>\n",
       "      <td>...</td>\n",
       "      <td>...</td>\n",
       "      <td>...</td>\n",
       "      <td>...</td>\n",
       "      <td>...</td>\n",
       "      <td>...</td>\n",
       "      <td>...</td>\n",
       "      <td>...</td>\n",
       "    </tr>\n",
       "    <tr>\n",
       "      <th>248299</th>\n",
       "      <td>M058650684</td>\n",
       "      <td>21111614C021426818</td>\n",
       "      <td>1</td>\n",
       "      <td>C02</td>\n",
       "      <td>C020002</td>\n",
       "      <td>NaN</td>\n",
       "      <td>20211116</td>\n",
       "      <td>14</td>\n",
       "      <td>2000</td>\n",
       "      <td>0</td>\n",
       "      <td>...</td>\n",
       "      <td>여성</td>\n",
       "      <td>20대</td>\n",
       "      <td>Z10</td>\n",
       "      <td>Z17</td>\n",
       "      <td>Z17018</td>\n",
       "      <td>NaN</td>\n",
       "      <td>NaN</td>\n",
       "      <td>NaN</td>\n",
       "      <td>NaN</td>\n",
       "      <td>NaN</td>\n",
       "    </tr>\n",
       "    <tr>\n",
       "      <th>248300</th>\n",
       "      <td>M058650684</td>\n",
       "      <td>21111619C023223432</td>\n",
       "      <td>1</td>\n",
       "      <td>C02</td>\n",
       "      <td>C020002</td>\n",
       "      <td>NaN</td>\n",
       "      <td>20211116</td>\n",
       "      <td>19</td>\n",
       "      <td>26900</td>\n",
       "      <td>0</td>\n",
       "      <td>...</td>\n",
       "      <td>여성</td>\n",
       "      <td>20대</td>\n",
       "      <td>Z10</td>\n",
       "      <td>Z17</td>\n",
       "      <td>Z17018</td>\n",
       "      <td>NaN</td>\n",
       "      <td>NaN</td>\n",
       "      <td>NaN</td>\n",
       "      <td>NaN</td>\n",
       "      <td>NaN</td>\n",
       "    </tr>\n",
       "    <tr>\n",
       "      <th>248301</th>\n",
       "      <td>M014154595</td>\n",
       "      <td>21121209C015324520</td>\n",
       "      <td>2</td>\n",
       "      <td>C01</td>\n",
       "      <td>C010087</td>\n",
       "      <td>NaN</td>\n",
       "      <td>20211212</td>\n",
       "      <td>9</td>\n",
       "      <td>2000</td>\n",
       "      <td>0</td>\n",
       "      <td>...</td>\n",
       "      <td>여성</td>\n",
       "      <td>30대</td>\n",
       "      <td>Z12</td>\n",
       "      <td>Z14</td>\n",
       "      <td>Z14005</td>\n",
       "      <td>NaN</td>\n",
       "      <td>NaN</td>\n",
       "      <td>NaN</td>\n",
       "      <td>NaN</td>\n",
       "      <td>NaN</td>\n",
       "    </tr>\n",
       "    <tr>\n",
       "      <th>248302</th>\n",
       "      <td>M510878172</td>\n",
       "      <td>21112719C013369102</td>\n",
       "      <td>2</td>\n",
       "      <td>C01</td>\n",
       "      <td>C010007</td>\n",
       "      <td>NaN</td>\n",
       "      <td>20211127</td>\n",
       "      <td>19</td>\n",
       "      <td>6000</td>\n",
       "      <td>0</td>\n",
       "      <td>...</td>\n",
       "      <td>남성</td>\n",
       "      <td>20대</td>\n",
       "      <td>Z17</td>\n",
       "      <td>Z17</td>\n",
       "      <td>Z17013</td>\n",
       "      <td>NaN</td>\n",
       "      <td>NaN</td>\n",
       "      <td>NaN</td>\n",
       "      <td>NaN</td>\n",
       "      <td>NaN</td>\n",
       "    </tr>\n",
       "    <tr>\n",
       "      <th>248303</th>\n",
       "      <td>M761634870</td>\n",
       "      <td>21122419C013829696</td>\n",
       "      <td>2</td>\n",
       "      <td>C01</td>\n",
       "      <td>C010014</td>\n",
       "      <td>NaN</td>\n",
       "      <td>20211224</td>\n",
       "      <td>19</td>\n",
       "      <td>28000</td>\n",
       "      <td>0</td>\n",
       "      <td>...</td>\n",
       "      <td>남성</td>\n",
       "      <td>30대</td>\n",
       "      <td>Z17</td>\n",
       "      <td>Z17</td>\n",
       "      <td>Z17004</td>\n",
       "      <td>NaN</td>\n",
       "      <td>NaN</td>\n",
       "      <td>NaN</td>\n",
       "      <td>NaN</td>\n",
       "      <td>NaN</td>\n",
       "    </tr>\n",
       "  </tbody>\n",
       "</table>\n",
       "<p>4392693 rows × 21 columns</p>\n",
       "</div>"
      ],
      "text/plain": [
       "              고객코드               영수증번호  채널구분  제휴사     점포코드    상품코드      구매일자  \\\n",
       "0       M430112881        A01000001113     1  A01  A010039  PD0290  20210101   \n",
       "1       M646853852        A01000002265     1  A01  A010025  PD1369  20210101   \n",
       "2       M430112881        A01000003148     1  A01  A010039  PD0290  20210101   \n",
       "3       M430112881        A01000004946     1  A01  A010039  PD0290  20210101   \n",
       "4       M430112881        A01000005297     1  A01  A010039  PD1692  20210101   \n",
       "...            ...                 ...   ...  ...      ...     ...       ...   \n",
       "248299  M058650684  21111614C021426818     1  C02  C020002     NaN  20211116   \n",
       "248300  M058650684  21111619C023223432     1  C02  C020002     NaN  20211116   \n",
       "248301  M014154595  21121209C015324520     2  C01  C010087     NaN  20211212   \n",
       "248302  M510878172  21112719C013369102     2  C01  C010007     NaN  20211127   \n",
       "248303  M761634870  21122419C013829696     2  C01  C010014     NaN  20211224   \n",
       "\n",
       "        구매시간   구매금액  구매수량  ...  성별  연령대 거주지대분류코드 점포지역대분류코드 점포지역중분류코드  \\\n",
       "0         10  15000     1  ...  여성  50대      Z17       Z10    Z10042   \n",
       "1         10  79700     1  ...  여성  40대      Z13       Z13    Z13001   \n",
       "2         10  19000     1  ...  여성  50대      Z17       Z10    Z10042   \n",
       "3         10  19000     1  ...  여성  50대      Z17       Z10    Z10042   \n",
       "4         10   9900     1  ...  여성  50대      Z17       Z10    Z10042   \n",
       "...      ...    ...   ...  ...  ..  ...      ...       ...       ...   \n",
       "248299    14   2000     0  ...  여성  20대      Z10       Z17    Z17018   \n",
       "248300    19  26900     0  ...  여성  20대      Z10       Z17    Z17018   \n",
       "248301     9   2000     0  ...  여성  30대      Z12       Z14    Z14005   \n",
       "248302    19   6000     0  ...  남성  20대      Z17       Z17    Z17013   \n",
       "248303    19  28000     0  ...  남성  30대      Z17       Z17    Z17004   \n",
       "\n",
       "         상품 소분류명  상품 대분류명 상품 중분류명 엘페이 결제번호 엘페이 결제이력  \n",
       "0          남성티셔츠     남성의류  남성의류상의      NaN      NaN  \n",
       "1       기타주방일회용품     주방잡화  주방일회용품      NaN      NaN  \n",
       "2          남성티셔츠     남성의류  남성의류상의      NaN      NaN  \n",
       "3          남성티셔츠     남성의류  남성의류상의      NaN      NaN  \n",
       "4          커피/음료  테넌트/음식점      식당      NaN      NaN  \n",
       "...          ...      ...     ...      ...      ...  \n",
       "248299       NaN      NaN     NaN      NaN      NaN  \n",
       "248300       NaN      NaN     NaN      NaN      NaN  \n",
       "248301       NaN      NaN     NaN      NaN      NaN  \n",
       "248302       NaN      NaN     NaN      NaN      NaN  \n",
       "248303       NaN      NaN     NaN      NaN      NaN  \n",
       "\n",
       "[4392693 rows x 21 columns]"
      ]
     },
     "execution_count": 33,
     "metadata": {},
     "output_type": "execute_result"
    }
   ],
   "source": [
    "df"
   ]
  },
  {
   "cell_type": "code",
   "execution_count": 34,
   "id": "afb3137e",
   "metadata": {},
   "outputs": [],
   "source": [
    "# 엘페이 결제이력 결측치 0으로 처리\n",
    "df['엘페이 결제이력'] = df['엘페이 결제이력'].fillna(0)"
   ]
  },
  {
   "cell_type": "code",
   "execution_count": 35,
   "id": "a2cac161",
   "metadata": {},
   "outputs": [],
   "source": [
    "df.reset_index(drop=True,inplace=True)"
   ]
  },
  {
   "cell_type": "code",
   "execution_count": 36,
   "id": "8bda1562",
   "metadata": {},
   "outputs": [],
   "source": [
    "df_lpay.reset_index(drop=True,inplace=True)"
   ]
  },
  {
   "cell_type": "markdown",
   "id": "daf5aaf7",
   "metadata": {},
   "source": [
    "### 아래 칸 진행 X"
   ]
  },
  {
   "cell_type": "code",
   "execution_count": 37,
   "id": "262007c9",
   "metadata": {},
   "outputs": [],
   "source": [
    "idx = df_lpay[df_lpay['엘페이 결제번호'].isin(df['엘페이 결제번호']) == True].index"
   ]
  },
  {
   "cell_type": "code",
   "execution_count": 38,
   "id": "801d57e8",
   "metadata": {},
   "outputs": [],
   "source": [
    "df_lpay.drop(idx, axis=0,inplace=True)"
   ]
  },
  {
   "cell_type": "code",
   "execution_count": 39,
   "id": "5af06246",
   "metadata": {},
   "outputs": [],
   "source": [
    "df_lpay['타입'] = 'Lpay'"
   ]
  },
  {
   "cell_type": "markdown",
   "id": "ca687a48",
   "metadata": {},
   "source": [
    "### 여기서부터 코드 실행 (LPAY 중복되는 부분 버리지 말고 가져가는 거로)"
   ]
  },
  {
   "cell_type": "code",
   "execution_count": 40,
   "id": "656d332b",
   "metadata": {},
   "outputs": [],
   "source": [
    "df = pd.concat([df,df_lpay])"
   ]
  },
  {
   "cell_type": "code",
   "execution_count": 41,
   "id": "8e1c992b",
   "metadata": {},
   "outputs": [
    {
     "data": {
      "text/html": [
       "<div>\n",
       "<style scoped>\n",
       "    .dataframe tbody tr th:only-of-type {\n",
       "        vertical-align: middle;\n",
       "    }\n",
       "\n",
       "    .dataframe tbody tr th {\n",
       "        vertical-align: top;\n",
       "    }\n",
       "\n",
       "    .dataframe thead th {\n",
       "        text-align: right;\n",
       "    }\n",
       "</style>\n",
       "<table border=\"1\" class=\"dataframe\">\n",
       "  <thead>\n",
       "    <tr style=\"text-align: right;\">\n",
       "      <th></th>\n",
       "      <th>고객코드</th>\n",
       "      <th>영수증번호</th>\n",
       "      <th>채널구분</th>\n",
       "      <th>제휴사</th>\n",
       "      <th>점포코드</th>\n",
       "      <th>상품코드</th>\n",
       "      <th>구매일자</th>\n",
       "      <th>구매시간</th>\n",
       "      <th>구매금액</th>\n",
       "      <th>구매수량</th>\n",
       "      <th>...</th>\n",
       "      <th>성별</th>\n",
       "      <th>연령대</th>\n",
       "      <th>거주지대분류코드</th>\n",
       "      <th>점포지역대분류코드</th>\n",
       "      <th>점포지역중분류코드</th>\n",
       "      <th>상품 소분류명</th>\n",
       "      <th>상품 대분류명</th>\n",
       "      <th>상품 중분류명</th>\n",
       "      <th>엘페이 결제번호</th>\n",
       "      <th>엘페이 결제이력</th>\n",
       "    </tr>\n",
       "  </thead>\n",
       "  <tbody>\n",
       "    <tr>\n",
       "      <th>0</th>\n",
       "      <td>M430112881</td>\n",
       "      <td>A01000001113</td>\n",
       "      <td>1</td>\n",
       "      <td>A01</td>\n",
       "      <td>A010039</td>\n",
       "      <td>PD0290</td>\n",
       "      <td>20210101</td>\n",
       "      <td>10</td>\n",
       "      <td>15000</td>\n",
       "      <td>1.0</td>\n",
       "      <td>...</td>\n",
       "      <td>여성</td>\n",
       "      <td>50대</td>\n",
       "      <td>Z17</td>\n",
       "      <td>Z10</td>\n",
       "      <td>Z10042</td>\n",
       "      <td>남성티셔츠</td>\n",
       "      <td>남성의류</td>\n",
       "      <td>남성의류상의</td>\n",
       "      <td>NaN</td>\n",
       "      <td>0.0</td>\n",
       "    </tr>\n",
       "    <tr>\n",
       "      <th>1</th>\n",
       "      <td>M646853852</td>\n",
       "      <td>A01000002265</td>\n",
       "      <td>1</td>\n",
       "      <td>A01</td>\n",
       "      <td>A010025</td>\n",
       "      <td>PD1369</td>\n",
       "      <td>20210101</td>\n",
       "      <td>10</td>\n",
       "      <td>79700</td>\n",
       "      <td>1.0</td>\n",
       "      <td>...</td>\n",
       "      <td>여성</td>\n",
       "      <td>40대</td>\n",
       "      <td>Z13</td>\n",
       "      <td>Z13</td>\n",
       "      <td>Z13001</td>\n",
       "      <td>기타주방일회용품</td>\n",
       "      <td>주방잡화</td>\n",
       "      <td>주방일회용품</td>\n",
       "      <td>NaN</td>\n",
       "      <td>0.0</td>\n",
       "    </tr>\n",
       "    <tr>\n",
       "      <th>2</th>\n",
       "      <td>M430112881</td>\n",
       "      <td>A01000003148</td>\n",
       "      <td>1</td>\n",
       "      <td>A01</td>\n",
       "      <td>A010039</td>\n",
       "      <td>PD0290</td>\n",
       "      <td>20210101</td>\n",
       "      <td>10</td>\n",
       "      <td>19000</td>\n",
       "      <td>1.0</td>\n",
       "      <td>...</td>\n",
       "      <td>여성</td>\n",
       "      <td>50대</td>\n",
       "      <td>Z17</td>\n",
       "      <td>Z10</td>\n",
       "      <td>Z10042</td>\n",
       "      <td>남성티셔츠</td>\n",
       "      <td>남성의류</td>\n",
       "      <td>남성의류상의</td>\n",
       "      <td>NaN</td>\n",
       "      <td>0.0</td>\n",
       "    </tr>\n",
       "    <tr>\n",
       "      <th>3</th>\n",
       "      <td>M430112881</td>\n",
       "      <td>A01000004946</td>\n",
       "      <td>1</td>\n",
       "      <td>A01</td>\n",
       "      <td>A010039</td>\n",
       "      <td>PD0290</td>\n",
       "      <td>20210101</td>\n",
       "      <td>10</td>\n",
       "      <td>19000</td>\n",
       "      <td>1.0</td>\n",
       "      <td>...</td>\n",
       "      <td>여성</td>\n",
       "      <td>50대</td>\n",
       "      <td>Z17</td>\n",
       "      <td>Z10</td>\n",
       "      <td>Z10042</td>\n",
       "      <td>남성티셔츠</td>\n",
       "      <td>남성의류</td>\n",
       "      <td>남성의류상의</td>\n",
       "      <td>NaN</td>\n",
       "      <td>0.0</td>\n",
       "    </tr>\n",
       "    <tr>\n",
       "      <th>4</th>\n",
       "      <td>M430112881</td>\n",
       "      <td>A01000005297</td>\n",
       "      <td>1</td>\n",
       "      <td>A01</td>\n",
       "      <td>A010039</td>\n",
       "      <td>PD1692</td>\n",
       "      <td>20210101</td>\n",
       "      <td>10</td>\n",
       "      <td>9900</td>\n",
       "      <td>1.0</td>\n",
       "      <td>...</td>\n",
       "      <td>여성</td>\n",
       "      <td>50대</td>\n",
       "      <td>Z17</td>\n",
       "      <td>Z10</td>\n",
       "      <td>Z10042</td>\n",
       "      <td>커피/음료</td>\n",
       "      <td>테넌트/음식점</td>\n",
       "      <td>식당</td>\n",
       "      <td>NaN</td>\n",
       "      <td>0.0</td>\n",
       "    </tr>\n",
       "    <tr>\n",
       "      <th>...</th>\n",
       "      <td>...</td>\n",
       "      <td>...</td>\n",
       "      <td>...</td>\n",
       "      <td>...</td>\n",
       "      <td>...</td>\n",
       "      <td>...</td>\n",
       "      <td>...</td>\n",
       "      <td>...</td>\n",
       "      <td>...</td>\n",
       "      <td>...</td>\n",
       "      <td>...</td>\n",
       "      <td>...</td>\n",
       "      <td>...</td>\n",
       "      <td>...</td>\n",
       "      <td>...</td>\n",
       "      <td>...</td>\n",
       "      <td>...</td>\n",
       "      <td>...</td>\n",
       "      <td>...</td>\n",
       "      <td>...</td>\n",
       "      <td>...</td>\n",
       "    </tr>\n",
       "    <tr>\n",
       "      <th>353178</th>\n",
       "      <td>M470112503</td>\n",
       "      <td>NaN</td>\n",
       "      <td>2</td>\n",
       "      <td>A06</td>\n",
       "      <td>NaN</td>\n",
       "      <td>NaN</td>\n",
       "      <td>20210104</td>\n",
       "      <td>21</td>\n",
       "      <td>50920</td>\n",
       "      <td>NaN</td>\n",
       "      <td>...</td>\n",
       "      <td>여성</td>\n",
       "      <td>50대</td>\n",
       "      <td>Z16</td>\n",
       "      <td>NaN</td>\n",
       "      <td>NaN</td>\n",
       "      <td>NaN</td>\n",
       "      <td>NaN</td>\n",
       "      <td>NaN</td>\n",
       "      <td>210104210651243</td>\n",
       "      <td>1.0</td>\n",
       "    </tr>\n",
       "    <tr>\n",
       "      <th>353179</th>\n",
       "      <td>M470112503</td>\n",
       "      <td>NaN</td>\n",
       "      <td>2</td>\n",
       "      <td>A06</td>\n",
       "      <td>NaN</td>\n",
       "      <td>NaN</td>\n",
       "      <td>20210125</td>\n",
       "      <td>11</td>\n",
       "      <td>51800</td>\n",
       "      <td>NaN</td>\n",
       "      <td>...</td>\n",
       "      <td>여성</td>\n",
       "      <td>50대</td>\n",
       "      <td>Z16</td>\n",
       "      <td>NaN</td>\n",
       "      <td>NaN</td>\n",
       "      <td>NaN</td>\n",
       "      <td>NaN</td>\n",
       "      <td>NaN</td>\n",
       "      <td>210125110644545</td>\n",
       "      <td>1.0</td>\n",
       "    </tr>\n",
       "    <tr>\n",
       "      <th>353180</th>\n",
       "      <td>M470112503</td>\n",
       "      <td>NaN</td>\n",
       "      <td>2</td>\n",
       "      <td>A06</td>\n",
       "      <td>NaN</td>\n",
       "      <td>NaN</td>\n",
       "      <td>20210104</td>\n",
       "      <td>21</td>\n",
       "      <td>6440</td>\n",
       "      <td>NaN</td>\n",
       "      <td>...</td>\n",
       "      <td>여성</td>\n",
       "      <td>50대</td>\n",
       "      <td>Z16</td>\n",
       "      <td>NaN</td>\n",
       "      <td>NaN</td>\n",
       "      <td>NaN</td>\n",
       "      <td>NaN</td>\n",
       "      <td>NaN</td>\n",
       "      <td>210104210652271</td>\n",
       "      <td>1.0</td>\n",
       "    </tr>\n",
       "    <tr>\n",
       "      <th>353181</th>\n",
       "      <td>M748878049</td>\n",
       "      <td>NaN</td>\n",
       "      <td>1</td>\n",
       "      <td>A02</td>\n",
       "      <td>NaN</td>\n",
       "      <td>NaN</td>\n",
       "      <td>20210119</td>\n",
       "      <td>20</td>\n",
       "      <td>17600</td>\n",
       "      <td>NaN</td>\n",
       "      <td>...</td>\n",
       "      <td>여성</td>\n",
       "      <td>30대</td>\n",
       "      <td>Z10</td>\n",
       "      <td>NaN</td>\n",
       "      <td>NaN</td>\n",
       "      <td>NaN</td>\n",
       "      <td>NaN</td>\n",
       "      <td>NaN</td>\n",
       "      <td>210119200278240</td>\n",
       "      <td>1.0</td>\n",
       "    </tr>\n",
       "    <tr>\n",
       "      <th>353182</th>\n",
       "      <td>M748878049</td>\n",
       "      <td>NaN</td>\n",
       "      <td>1</td>\n",
       "      <td>A02</td>\n",
       "      <td>NaN</td>\n",
       "      <td>NaN</td>\n",
       "      <td>20210119</td>\n",
       "      <td>18</td>\n",
       "      <td>12400</td>\n",
       "      <td>NaN</td>\n",
       "      <td>...</td>\n",
       "      <td>여성</td>\n",
       "      <td>30대</td>\n",
       "      <td>Z10</td>\n",
       "      <td>NaN</td>\n",
       "      <td>NaN</td>\n",
       "      <td>NaN</td>\n",
       "      <td>NaN</td>\n",
       "      <td>NaN</td>\n",
       "      <td>210119180267206</td>\n",
       "      <td>1.0</td>\n",
       "    </tr>\n",
       "  </tbody>\n",
       "</table>\n",
       "<p>4689001 rows × 21 columns</p>\n",
       "</div>"
      ],
      "text/plain": [
       "              고객코드         영수증번호  채널구분  제휴사     점포코드    상품코드      구매일자  구매시간  \\\n",
       "0       M430112881  A01000001113     1  A01  A010039  PD0290  20210101    10   \n",
       "1       M646853852  A01000002265     1  A01  A010025  PD1369  20210101    10   \n",
       "2       M430112881  A01000003148     1  A01  A010039  PD0290  20210101    10   \n",
       "3       M430112881  A01000004946     1  A01  A010039  PD0290  20210101    10   \n",
       "4       M430112881  A01000005297     1  A01  A010039  PD1692  20210101    10   \n",
       "...            ...           ...   ...  ...      ...     ...       ...   ...   \n",
       "353178  M470112503           NaN     2  A06      NaN     NaN  20210104    21   \n",
       "353179  M470112503           NaN     2  A06      NaN     NaN  20210125    11   \n",
       "353180  M470112503           NaN     2  A06      NaN     NaN  20210104    21   \n",
       "353181  M748878049           NaN     1  A02      NaN     NaN  20210119    20   \n",
       "353182  M748878049           NaN     1  A02      NaN     NaN  20210119    18   \n",
       "\n",
       "         구매금액  구매수량  ...  성별  연령대 거주지대분류코드 점포지역대분류코드 점포지역중분류코드   상품 소분류명  \\\n",
       "0       15000   1.0  ...  여성  50대      Z17       Z10    Z10042     남성티셔츠   \n",
       "1       79700   1.0  ...  여성  40대      Z13       Z13    Z13001  기타주방일회용품   \n",
       "2       19000   1.0  ...  여성  50대      Z17       Z10    Z10042     남성티셔츠   \n",
       "3       19000   1.0  ...  여성  50대      Z17       Z10    Z10042     남성티셔츠   \n",
       "4        9900   1.0  ...  여성  50대      Z17       Z10    Z10042     커피/음료   \n",
       "...       ...   ...  ...  ..  ...      ...       ...       ...       ...   \n",
       "353178  50920   NaN  ...  여성  50대      Z16       NaN       NaN       NaN   \n",
       "353179  51800   NaN  ...  여성  50대      Z16       NaN       NaN       NaN   \n",
       "353180   6440   NaN  ...  여성  50대      Z16       NaN       NaN       NaN   \n",
       "353181  17600   NaN  ...  여성  30대      Z10       NaN       NaN       NaN   \n",
       "353182  12400   NaN  ...  여성  30대      Z10       NaN       NaN       NaN   \n",
       "\n",
       "        상품 대분류명 상품 중분류명         엘페이 결제번호 엘페이 결제이력  \n",
       "0          남성의류  남성의류상의              NaN      0.0  \n",
       "1          주방잡화  주방일회용품              NaN      0.0  \n",
       "2          남성의류  남성의류상의              NaN      0.0  \n",
       "3          남성의류  남성의류상의              NaN      0.0  \n",
       "4       테넌트/음식점      식당              NaN      0.0  \n",
       "...         ...     ...              ...      ...  \n",
       "353178      NaN     NaN  210104210651243      1.0  \n",
       "353179      NaN     NaN  210125110644545      1.0  \n",
       "353180      NaN     NaN  210104210652271      1.0  \n",
       "353181      NaN     NaN  210119200278240      1.0  \n",
       "353182      NaN     NaN  210119180267206      1.0  \n",
       "\n",
       "[4689001 rows x 21 columns]"
      ]
     },
     "execution_count": 41,
     "metadata": {},
     "output_type": "execute_result"
    }
   ],
   "source": [
    "df"
   ]
  },
  {
   "cell_type": "code",
   "execution_count": 42,
   "id": "4d6a678d",
   "metadata": {},
   "outputs": [
    {
     "data": {
      "text/plain": [
       "array([0., 1.])"
      ]
     },
     "execution_count": 42,
     "metadata": {},
     "output_type": "execute_result"
    }
   ],
   "source": [
    "df['엘페이 결제이력'].unique()"
   ]
  },
  {
   "cell_type": "code",
   "execution_count": 122,
   "id": "485f6d98",
   "metadata": {},
   "outputs": [],
   "source": [
    "df['엘페이 결제이력'] = df['엘페이 결제이력'].fillna(0)\n",
    "df['엘페이 결제이력'] = df['엘페이 결제이력'].astype('int')"
   ]
  },
  {
   "cell_type": "code",
   "execution_count": 126,
   "id": "fdbf3ad0",
   "metadata": {},
   "outputs": [],
   "source": [
    "df.to_csv('C:/Users/wnrrh/Desktop/0712.csv', encoding = 'utf-8', index=False)"
   ]
  },
  {
   "cell_type": "markdown",
   "id": "541e8d5f",
   "metadata": {},
   "source": [
    "# 데이터프레임 타입별로 분할하여 각자 EDA 진행하기! "
   ]
  },
  {
   "cell_type": "code",
   "execution_count": 44,
   "id": "113caf89",
   "metadata": {},
   "outputs": [],
   "source": [
    "df = pd.read_csv('C:/Users/wnrrh/desktop/0712.csv', encoding = 'utf-8',delimiter = ',')"
   ]
  },
  {
   "cell_type": "code",
   "execution_count": 45,
   "id": "e3b46c97",
   "metadata": {},
   "outputs": [
    {
     "data": {
      "text/plain": [
       "1933"
      ]
     },
     "execution_count": 45,
     "metadata": {},
     "output_type": "execute_result"
    }
   ],
   "source": [
    "len(df['상품 소분류명'].unique())"
   ]
  },
  {
   "cell_type": "code",
   "execution_count": 46,
   "id": "05c48c0f",
   "metadata": {},
   "outputs": [],
   "source": [
    "df_aff = df[df['타입'] == 'Affiliate']"
   ]
  },
  {
   "cell_type": "code",
   "execution_count": 47,
   "id": "f9ef761e",
   "metadata": {},
   "outputs": [],
   "source": [
    "df_aff.reset_index(drop=True,inplace=True)"
   ]
  },
  {
   "cell_type": "code",
   "execution_count": 48,
   "id": "fd901b64",
   "metadata": {},
   "outputs": [],
   "source": [
    "df_aff2 = df_aff.drop(['상품코드','상품 소분류명','상품 중분류명','상품 대분류명'],axis=1)"
   ]
  },
  {
   "cell_type": "code",
   "execution_count": 49,
   "id": "e74c9682",
   "metadata": {},
   "outputs": [
    {
     "name": "stdout",
     "output_type": "stream",
     "text": [
      "<class 'pandas.core.frame.DataFrame'>\n",
      "RangeIndex: 248304 entries, 0 to 248303\n",
      "Data columns (total 17 columns):\n",
      " #   Column     Non-Null Count   Dtype  \n",
      "---  ------     --------------   -----  \n",
      " 0   고객코드       248304 non-null  object \n",
      " 1   영수증번호      248304 non-null  object \n",
      " 2   채널구분       248304 non-null  int64  \n",
      " 3   제휴사        248304 non-null  object \n",
      " 4   점포코드       248249 non-null  object \n",
      " 5   구매일자       248304 non-null  int64  \n",
      " 6   구매시간       248304 non-null  int64  \n",
      " 7   구매금액       248304 non-null  int64  \n",
      " 8   구매수량       248304 non-null  float64\n",
      " 9   타입         248304 non-null  object \n",
      " 10  성별         248304 non-null  object \n",
      " 11  연령대        248304 non-null  object \n",
      " 12  거주지대분류코드   248304 non-null  object \n",
      " 13  점포지역대분류코드  248249 non-null  object \n",
      " 14  점포지역중분류코드  248249 non-null  object \n",
      " 15  엘페이 결제번호   21114 non-null   float64\n",
      " 16  엘페이 결제이력   248304 non-null  int64  \n",
      "dtypes: float64(2), int64(5), object(10)\n",
      "memory usage: 32.2+ MB\n"
     ]
    }
   ],
   "source": [
    "df_aff2.info()"
   ]
  },
  {
   "cell_type": "code",
   "execution_count": 50,
   "id": "fb04d039",
   "metadata": {},
   "outputs": [],
   "source": [
    "df_aff2['구매일자'] = df_aff2['구매일자'].astype('str')\n",
    "df_aff2['구매수량'] = df_aff2['구매수량'].astype('int')"
   ]
  },
  {
   "cell_type": "code",
   "execution_count": 51,
   "id": "c4580be8",
   "metadata": {},
   "outputs": [],
   "source": [
    "df_aff2['구매년도'] = df_aff2['구매일자'].str[0:4]\n",
    "df_aff2['구매월'] = df_aff2['구매일자'].str[4:6]\n",
    "df_aff2['구매일'] = df_aff2['구매일자'].str[6:]"
   ]
  },
  {
   "cell_type": "code",
   "execution_count": 52,
   "id": "3b9a0074",
   "metadata": {},
   "outputs": [
    {
     "data": {
      "text/plain": [
       "0    227190\n",
       "1     21114\n",
       "Name: 엘페이 결제이력, dtype: int64"
      ]
     },
     "execution_count": 52,
     "metadata": {},
     "output_type": "execute_result"
    }
   ],
   "source": [
    "df_aff2['엘페이 결제이력'].value_counts()"
   ]
  },
  {
   "cell_type": "markdown",
   "id": "1f6a9332",
   "metadata": {},
   "source": [
    "## Column classification"
   ]
  },
  {
   "cell_type": "code",
   "execution_count": 53,
   "id": "47faf884",
   "metadata": {},
   "outputs": [
    {
     "name": "stdout",
     "output_type": "stream",
     "text": [
      "21769\n",
      "248304\n",
      "2030\n"
     ]
    }
   ],
   "source": [
    "# unique column 파악\n",
    "print(len(df_aff2['고객코드'].unique()))\n",
    "print(len(df_aff2['영수증번호'].unique()))\n",
    "print(len(df_aff2['점포코드'].unique()))"
   ]
  },
  {
   "cell_type": "code",
   "execution_count": 54,
   "id": "aa5198bb",
   "metadata": {},
   "outputs": [
    {
     "name": "stdout",
     "output_type": "stream",
     "text": [
      "369\n",
      "24\n",
      "9420\n",
      "2\n",
      "12\n",
      "31\n"
     ]
    }
   ],
   "source": [
    "# Time column\n",
    "print(len(df_aff2['구매일자'].unique()))\n",
    "print(len(df_aff2['구매시간'].unique()))\n",
    "print(len(df_aff2['구매금액'].unique()))\n",
    "print(len(df_aff2['구매년도'].unique()))\n",
    "print(len(df_aff2['구매월'].unique()))\n",
    "print(len(df_aff2['구매일'].unique()))"
   ]
  },
  {
   "cell_type": "code",
   "execution_count": 55,
   "id": "033dc952",
   "metadata": {},
   "outputs": [
    {
     "name": "stdout",
     "output_type": "stream",
     "text": [
      "2\n",
      "6\n",
      "2\n",
      "6\n",
      "17\n",
      "18\n",
      "236\n",
      "2\n"
     ]
    }
   ],
   "source": [
    "# Non unique column\n",
    "print(len(df_aff2['채널구분'].unique()))\n",
    "print(len(df_aff2['제휴사'].unique()))\n",
    "print(len(df_aff2['성별'].unique()))\n",
    "print(len(df_aff2['연령대'].unique()))\n",
    "print(len(df_aff2['거주지대분류코드'].unique()))\n",
    "print(len(df_aff2['점포지역대분류코드'].unique()))\n",
    "print(len(df_aff2['점포지역중분류코드'].unique()))\n",
    "print(len(df_aff2['엘페이 결제이력'].unique()))"
   ]
  },
  {
   "cell_type": "markdown",
   "id": "743ff2b0",
   "metadata": {},
   "source": [
    "## EDA"
   ]
  },
  {
   "cell_type": "code",
   "execution_count": 56,
   "id": "15f6960a",
   "metadata": {},
   "outputs": [],
   "source": [
    "df_aff2['성별'] = df_aff2['성별'].replace(1, '여성')\n",
    "df_aff2['성별'] = df_aff2['성별'].replace(0, '남성')"
   ]
  },
  {
   "cell_type": "markdown",
   "id": "668faca6",
   "metadata": {},
   "source": [
    "### Outlier 확인"
   ]
  },
  {
   "cell_type": "code",
   "execution_count": 57,
   "id": "3e7d2f8f",
   "metadata": {},
   "outputs": [
    {
     "data": {
      "image/png": "[encoded data removed]",
      "text/plain": [
       "<Figure size 1584x936 with 1 Axes>"
      ]
     },
     "metadata": {
      "needs_background": "light"
     },
     "output_type": "display_data"
    }
   ],
   "source": [
    "# 연령대별\n",
    "plt.figure(figsize = (22,13))\n",
    "sns.boxplot(data=df_aff2, x=\"연령대\", y=\"구매금액\", hue=\"성별\", color = 'blue')\n",
    "plt.show()"
   ]
  },
  {
   "cell_type": "code",
   "execution_count": 58,
   "id": "ee8f7259",
   "metadata": {},
   "outputs": [
    {
     "data": {
      "text/html": [
       "<div>\n",
       "<style scoped>\n",
       "    .dataframe tbody tr th:only-of-type {\n",
       "        vertical-align: middle;\n",
       "    }\n",
       "\n",
       "    .dataframe tbody tr th {\n",
       "        vertical-align: top;\n",
       "    }\n",
       "\n",
       "    .dataframe thead th {\n",
       "        text-align: right;\n",
       "    }\n",
       "</style>\n",
       "<table border=\"1\" class=\"dataframe\">\n",
       "  <thead>\n",
       "    <tr style=\"text-align: right;\">\n",
       "      <th></th>\n",
       "      <th>고객코드</th>\n",
       "      <th>영수증번호</th>\n",
       "      <th>채널구분</th>\n",
       "      <th>제휴사</th>\n",
       "      <th>점포코드</th>\n",
       "      <th>구매일자</th>\n",
       "      <th>구매시간</th>\n",
       "      <th>구매금액</th>\n",
       "      <th>구매수량</th>\n",
       "      <th>타입</th>\n",
       "      <th>성별</th>\n",
       "      <th>연령대</th>\n",
       "      <th>거주지대분류코드</th>\n",
       "      <th>점포지역대분류코드</th>\n",
       "      <th>점포지역중분류코드</th>\n",
       "      <th>엘페이 결제번호</th>\n",
       "      <th>엘페이 결제이력</th>\n",
       "      <th>구매년도</th>\n",
       "      <th>구매월</th>\n",
       "      <th>구매일</th>\n",
       "    </tr>\n",
       "  </thead>\n",
       "  <tbody>\n",
       "    <tr>\n",
       "      <th>1536</th>\n",
       "      <td>M034936927</td>\n",
       "      <td>21102420B014041708</td>\n",
       "      <td>1</td>\n",
       "      <td>B01</td>\n",
       "      <td>B010014</td>\n",
       "      <td>20211024</td>\n",
       "      <td>20</td>\n",
       "      <td>46810900</td>\n",
       "      <td>0</td>\n",
       "      <td>Affiliate</td>\n",
       "      <td>여성</td>\n",
       "      <td>60대</td>\n",
       "      <td>Z17</td>\n",
       "      <td>Z17</td>\n",
       "      <td>Z17018</td>\n",
       "      <td>NaN</td>\n",
       "      <td>0</td>\n",
       "      <td>2021</td>\n",
       "      <td>10</td>\n",
       "      <td>24</td>\n",
       "    </tr>\n",
       "  </tbody>\n",
       "</table>\n",
       "</div>"
      ],
      "text/plain": [
       "            고객코드               영수증번호  채널구분  제휴사     점포코드      구매일자  구매시간  \\\n",
       "1536  M034936927  21102420B014041708     1  B01  B010014  20211024    20   \n",
       "\n",
       "          구매금액  구매수량         타입  성별  연령대 거주지대분류코드 점포지역대분류코드 점포지역중분류코드  \\\n",
       "1536  46810900     0  Affiliate  여성  60대      Z17       Z17    Z17018   \n",
       "\n",
       "      엘페이 결제번호  엘페이 결제이력  구매년도 구매월 구매일  \n",
       "1536       NaN         0  2021  10  24  "
      ]
     },
     "execution_count": 58,
     "metadata": {},
     "output_type": "execute_result"
    }
   ],
   "source": [
    "df_aff2[(df_aff2['연령대'] =='60대') & (df_aff2['구매금액']>4*1e7)]"
   ]
  },
  {
   "cell_type": "code",
   "execution_count": 59,
   "id": "0908e20d",
   "metadata": {},
   "outputs": [
    {
     "data": {
      "text/html": [
       "<div>\n",
       "<style scoped>\n",
       "    .dataframe tbody tr th:only-of-type {\n",
       "        vertical-align: middle;\n",
       "    }\n",
       "\n",
       "    .dataframe tbody tr th {\n",
       "        vertical-align: top;\n",
       "    }\n",
       "\n",
       "    .dataframe thead th {\n",
       "        text-align: right;\n",
       "    }\n",
       "</style>\n",
       "<table border=\"1\" class=\"dataframe\">\n",
       "  <thead>\n",
       "    <tr style=\"text-align: right;\">\n",
       "      <th></th>\n",
       "      <th>고객코드</th>\n",
       "      <th>영수증번호</th>\n",
       "      <th>채널구분</th>\n",
       "      <th>제휴사</th>\n",
       "      <th>점포코드</th>\n",
       "      <th>구매일자</th>\n",
       "      <th>구매시간</th>\n",
       "      <th>구매금액</th>\n",
       "      <th>구매수량</th>\n",
       "      <th>타입</th>\n",
       "      <th>성별</th>\n",
       "      <th>연령대</th>\n",
       "      <th>거주지대분류코드</th>\n",
       "      <th>점포지역대분류코드</th>\n",
       "      <th>점포지역중분류코드</th>\n",
       "      <th>엘페이 결제번호</th>\n",
       "      <th>엘페이 결제이력</th>\n",
       "      <th>구매년도</th>\n",
       "      <th>구매월</th>\n",
       "      <th>구매일</th>\n",
       "    </tr>\n",
       "  </thead>\n",
       "  <tbody>\n",
       "    <tr>\n",
       "      <th>68765</th>\n",
       "      <td>M867765456</td>\n",
       "      <td>21022719B010855120</td>\n",
       "      <td>1</td>\n",
       "      <td>B01</td>\n",
       "      <td>B010019</td>\n",
       "      <td>20210227</td>\n",
       "      <td>19</td>\n",
       "      <td>59090000</td>\n",
       "      <td>0</td>\n",
       "      <td>Affiliate</td>\n",
       "      <td>여성</td>\n",
       "      <td>30대</td>\n",
       "      <td>Z17</td>\n",
       "      <td>Z17</td>\n",
       "      <td>Z17018</td>\n",
       "      <td>NaN</td>\n",
       "      <td>0</td>\n",
       "      <td>2021</td>\n",
       "      <td>02</td>\n",
       "      <td>27</td>\n",
       "    </tr>\n",
       "    <tr>\n",
       "      <th>215100</th>\n",
       "      <td>M439502359</td>\n",
       "      <td>21112714B010943839</td>\n",
       "      <td>1</td>\n",
       "      <td>B01</td>\n",
       "      <td>B010014</td>\n",
       "      <td>20211127</td>\n",
       "      <td>14</td>\n",
       "      <td>44141200</td>\n",
       "      <td>0</td>\n",
       "      <td>Affiliate</td>\n",
       "      <td>여성</td>\n",
       "      <td>30대</td>\n",
       "      <td>Z10</td>\n",
       "      <td>Z17</td>\n",
       "      <td>Z17018</td>\n",
       "      <td>NaN</td>\n",
       "      <td>0</td>\n",
       "      <td>2021</td>\n",
       "      <td>11</td>\n",
       "      <td>27</td>\n",
       "    </tr>\n",
       "    <tr>\n",
       "      <th>216683</th>\n",
       "      <td>M481734389</td>\n",
       "      <td>21102320B015974616</td>\n",
       "      <td>1</td>\n",
       "      <td>B01</td>\n",
       "      <td>B010019</td>\n",
       "      <td>20211023</td>\n",
       "      <td>20</td>\n",
       "      <td>70092000</td>\n",
       "      <td>0</td>\n",
       "      <td>Affiliate</td>\n",
       "      <td>남성</td>\n",
       "      <td>30대</td>\n",
       "      <td>Z17</td>\n",
       "      <td>Z17</td>\n",
       "      <td>Z17018</td>\n",
       "      <td>NaN</td>\n",
       "      <td>0</td>\n",
       "      <td>2021</td>\n",
       "      <td>10</td>\n",
       "      <td>23</td>\n",
       "    </tr>\n",
       "  </tbody>\n",
       "</table>\n",
       "</div>"
      ],
      "text/plain": [
       "              고객코드               영수증번호  채널구분  제휴사     점포코드      구매일자  구매시간  \\\n",
       "68765   M867765456  21022719B010855120     1  B01  B010019  20210227    19   \n",
       "215100  M439502359  21112714B010943839     1  B01  B010014  20211127    14   \n",
       "216683  M481734389  21102320B015974616     1  B01  B010019  20211023    20   \n",
       "\n",
       "            구매금액  구매수량         타입  성별  연령대 거주지대분류코드 점포지역대분류코드 점포지역중분류코드  \\\n",
       "68765   59090000     0  Affiliate  여성  30대      Z17       Z17    Z17018   \n",
       "215100  44141200     0  Affiliate  여성  30대      Z10       Z17    Z17018   \n",
       "216683  70092000     0  Affiliate  남성  30대      Z17       Z17    Z17018   \n",
       "\n",
       "        엘페이 결제번호  엘페이 결제이력  구매년도 구매월 구매일  \n",
       "68765        NaN         0  2021  02  27  \n",
       "215100       NaN         0  2021  11  27  \n",
       "216683       NaN         0  2021  10  23  "
      ]
     },
     "execution_count": 59,
     "metadata": {},
     "output_type": "execute_result"
    }
   ],
   "source": [
    "df_aff2[(df_aff2['연령대'] =='30대') & (df_aff2['구매금액']>4*1e7)]"
   ]
  },
  {
   "cell_type": "code",
   "execution_count": 60,
   "id": "a7998ffd",
   "metadata": {},
   "outputs": [
    {
     "data": {
      "text/plain": [
       "count    5.970000e+02\n",
       "mean     6.470240e+05\n",
       "std      3.769017e+06\n",
       "min      2.000000e+03\n",
       "25%      7.200000e+04\n",
       "50%      2.500000e+05\n",
       "75%      6.104000e+05\n",
       "max      7.009200e+07\n",
       "Name: 구매금액, dtype: float64"
      ]
     },
     "execution_count": 60,
     "metadata": {},
     "output_type": "execute_result"
    }
   ],
   "source": [
    "df_aff2[df_aff2['점포코드'] == 'B010019']['구매금액'].describe()"
   ]
  },
  {
   "cell_type": "markdown",
   "id": "361900ea",
   "metadata": {},
   "source": [
    "타겟 변수인 구매금액으로 보아, Outlier 제거 필요"
   ]
  },
  {
   "cell_type": "code",
   "execution_count": 61,
   "id": "e50dd700",
   "metadata": {},
   "outputs": [
    {
     "data": {
      "image/png": "[encoded data removed]",
      "text/plain": [
       "<Figure size 1440x720 with 2 Axes>"
      ]
     },
     "metadata": {},
     "output_type": "display_data"
    }
   ],
   "source": [
    "# 성별에 따른 제휴사 이용 건수 및 구매금액 \n",
    "color = sns.color_palette('pastel')[:10]\n",
    "a = df_aff2.groupby(\"성별\")[\"고객코드\"].count()\n",
    "b = df_aff2.groupby(\"성별\")[\"구매금액\"].sum()\n",
    "\n",
    "plt.figure(figsize=(20,10))\n",
    "\n",
    "plt.subplot(1,2,1)\n",
    "plt.title(\"성별 기준 제휴사 이용 건수(%)\", fontsize=20)\n",
    "\n",
    "a.plot(kind = 'pie', explode = [0.05, 0.05], autopct='%1.1f%%', textprops={'fontsize':20}, colors=color)\n",
    "plt.xlabel('성별', fontsize=20)\n",
    "plt.ylabel('제휴사 이용 건수',fontsize=20)\n",
    "\n",
    "plt.subplot(1,2,2)\n",
    "plt.title(\"성별 기준 구매금액 합계(%)\", fontsize=20)\n",
    "\n",
    "b.plot(kind = 'pie', explode = [0.05, 0.05], autopct='%1.1f%%', textprops={'fontsize' : 20}, colors=color)\n",
    "plt.xlabel('성별', fontsize=20)\n",
    "plt.ylabel('구매금액 합계', fontsize=20)\n",
    "\n",
    "plt.suptitle('성별에 따른 이용 건수 및 구매금액 계 (%)', fontsize = 30)\n",
    "plt.show()"
   ]
  },
  {
   "cell_type": "code",
   "execution_count": 62,
   "id": "2ce1a082",
   "metadata": {},
   "outputs": [
    {
     "data": {
      "image/png": "[encoded data removed]",
      "text/plain": [
       "<Figure size 1440x720 with 2 Axes>"
      ]
     },
     "metadata": {},
     "output_type": "display_data"
    }
   ],
   "source": [
    "# 연령대별 제휴사 이용 건수 및 구매금액 합계\n",
    "a = df_aff2.groupby(\"연령대\")[\"고객코드\"].count()\n",
    "b = df_aff2.groupby(\"연령대\")[\"구매금액\"].sum()\n",
    "\n",
    "plt.figure(figsize =(20,10))\n",
    "\n",
    "plt.subplot(1,2,1)\n",
    "plt.title(\"연령대별 제휴사 이용 건수(%)\", fontsize=20)\n",
    "a.plot(kind = 'pie', autopct='%1.1f%%', textprops= {'fontsize':20}, colors=color)\n",
    "plt.xlabel('연령대별', fontsize=20)\n",
    "plt.ylabel('제휴사 이용 건수',fontsize=20)\n",
    "\n",
    "plt.subplot(1,2,2)\n",
    "plt.title(\"연령대별 구매금액 합계(%)\", fontsize=20)\n",
    "b.plot(kind = 'pie', autopct='%1.1f%%', textprops= {'fontsize':20}, colors=color)\n",
    "plt.xlabel('연령대별', fontsize=20)\n",
    "plt.ylabel('구매금액 합계', fontsize=20)\n",
    "\n",
    "plt.suptitle('연령대별 제휴사 이용 건수 및 구매금액 계 (%)', fontsize = 30)\n",
    "plt.show()"
   ]
  },
  {
   "cell_type": "code",
   "execution_count": 63,
   "id": "15dddb32",
   "metadata": {},
   "outputs": [
    {
     "data": {
      "image/png": "[encoded data removed]",
      "text/plain": [
       "<Figure size 432x288 with 1 Axes>"
      ]
     },
     "metadata": {
      "needs_background": "light"
     },
     "output_type": "display_data"
    }
   ],
   "source": [
    "# 연령대별 성별 비중\n",
    "stacked_bar_df = df_aff2.groupby([\"성별\",\"연령대\"]).size().unstack()\n",
    "stacked_bar_df.plot(kind='bar', stacked=True, color=color)\n",
    "plt.title(\"연령대별 성별 비중\")\n",
    "plt.xticks(rotation=0, fontsize=18)\n",
    "plt.show()"
   ]
  },
  {
   "cell_type": "code",
   "execution_count": 64,
   "id": "a0d24295",
   "metadata": {},
   "outputs": [
    {
     "data": {
      "image/png": "[encoded data removed]",
      "text/plain": [
       "<Figure size 576x360 with 6 Axes>"
      ]
     },
     "metadata": {
      "needs_background": "light"
     },
     "output_type": "display_data"
    }
   ],
   "source": [
    "# 제휴사 별 남/녀 이용 건수 비교 \n",
    "sns.catplot(data=df_aff2, x=\"성별\", kind=\"count\", col=\"제휴사\", col_wrap=4, height=2.5, aspect=.8, alpha=0.5)\n",
    "plt.show()"
   ]
  },
  {
   "cell_type": "code",
   "execution_count": 65,
   "id": "58f7016f",
   "metadata": {},
   "outputs": [
    {
     "data": {
      "text/plain": [
       "array([[<AxesSubplot:title={'center':'남성'}, ylabel='제휴사'>,\n",
       "        <AxesSubplot:title={'center':'여성'}, ylabel='제휴사'>]], dtype=object)"
      ]
     },
     "execution_count": 65,
     "metadata": {},
     "output_type": "execute_result"
    },
    {
     "data": {
      "image/png": "[encoded data removed]",
      "text/plain": [
       "<Figure size 720x360 with 1 Axes>"
      ]
     },
     "metadata": {
      "needs_background": "light"
     },
     "output_type": "display_data"
    },
    {
     "data": {
      "image/png": "[encoded data removed]",
      "text/plain": [
       "<Figure size 576x432 with 2 Axes>"
      ]
     },
     "metadata": {
      "needs_background": "light"
     },
     "output_type": "display_data"
    }
   ],
   "source": [
    "# 제휴사별 이용 횟수\n",
    "plt.figure(figsize = (10,5))\n",
    "df_aff2.groupby('제휴사').size().sort_values(ascending=True).plot(kind='barh',color = ['salmon'], title = \"제휴사 이용 횟수\")\n",
    "# 성별 구매횟수\n",
    "pivot_purecnt = pd.pivot_table(df_aff2, index=\"제휴사\", columns =\"성별\", values=\"구매금액\", aggfunc=\"size\" )\n",
    "pivot_purecnt.plot(kind ='barh', title = \"제휴사 별 구매금액\",sharey=True, subplots=True, layout=(1,2), figsize=(8,6), color= ['salmon','steelblue'])"
   ]
  },
  {
   "cell_type": "code",
   "execution_count": 66,
   "id": "670a28f5",
   "metadata": {},
   "outputs": [
    {
     "data": {
      "text/plain": [
       "D01    112232\n",
       "C01     48323\n",
       "D02     43134\n",
       "C02     30258\n",
       "B01      8103\n",
       "E01      6254\n",
       "Name: 제휴사, dtype: int64"
      ]
     },
     "execution_count": 66,
     "metadata": {},
     "output_type": "execute_result"
    }
   ],
   "source": [
    "df_aff2['제휴사'].value_counts()"
   ]
  },
  {
   "cell_type": "code",
   "execution_count": 67,
   "id": "519bd021",
   "metadata": {},
   "outputs": [
    {
     "data": {
      "text/plain": [
       "Index(['고객코드', '영수증번호', '채널구분', '제휴사', '점포코드', '구매일자', '구매시간', '구매금액', '구매수량',\n",
       "       '타입', '성별', '연령대', '거주지대분류코드', '점포지역대분류코드', '점포지역중분류코드', '엘페이 결제번호',\n",
       "       '엘페이 결제이력', '구매년도', '구매월', '구매일'],\n",
       "      dtype='object')"
      ]
     },
     "execution_count": 67,
     "metadata": {},
     "output_type": "execute_result"
    }
   ],
   "source": [
    "df_aff2.columns"
   ]
  },
  {
   "cell_type": "code",
   "execution_count": 68,
   "id": "99dbd110",
   "metadata": {
    "scrolled": false
   },
   "outputs": [
    {
     "name": "stdout",
     "output_type": "stream",
     "text": [
      "M223630342    261\n",
      "M295053802    130\n",
      "M724456397    123\n",
      "M710368459    115\n",
      "M678207187     98\n",
      "M269668794     97\n",
      "M640148330     96\n",
      "M837895245     96\n",
      "M685408649     96\n",
      "M728453417     95\n",
      "Name: 고객코드, dtype: int64\n"
     ]
    },
    {
     "data": {
      "image/png": "[encoded data removed]",
      "text/plain": [
       "<Figure size 1584x864 with 1 Axes>"
      ]
     },
     "metadata": {
      "needs_background": "light"
     },
     "output_type": "display_data"
    },
    {
     "name": "stdout",
     "output_type": "stream",
     "text": [
      "Z17018    47484\n",
      "Z17001     7192\n",
      "Z16007     5546\n",
      "Z17004     5469\n",
      "Z17020     4167\n",
      "Z17009     3411\n",
      "Z16015     3322\n",
      "Z10047     3310\n",
      "Z11004     3216\n",
      "Z17024     3180\n",
      "Name: 점포지역중분류코드, dtype: int64\n"
     ]
    },
    {
     "data": {
      "image/png": "[encoded data removed]",
      "text/plain": [
       "<Figure size 1584x864 with 1 Axes>"
      ]
     },
     "metadata": {
      "needs_background": "light"
     },
     "output_type": "display_data"
    },
    {
     "name": "stdout",
     "output_type": "stream",
     "text": [
      "Z17    81259\n",
      "Z10    64380\n",
      "Z16    22857\n",
      "Z11    14125\n",
      "Z04    13791\n",
      "Z06     8812\n",
      "Z13     7276\n",
      "Z14     6263\n",
      "Z08     5067\n",
      "Z15     4867\n",
      "Name: 거주지대분류코드, dtype: int64\n"
     ]
    },
    {
     "data": {
      "image/png": "[encoded data removed]",
      "text/plain": [
       "<Figure size 1584x864 with 1 Axes>"
      ]
     },
     "metadata": {
      "needs_background": "light"
     },
     "output_type": "display_data"
    },
    {
     "name": "stdout",
     "output_type": "stream",
     "text": [
      "Z17    99802\n",
      "Z10    43293\n",
      "Z16    22073\n",
      "Z11    12664\n",
      "Z04     9237\n",
      "Z06     8162\n",
      "Z14     7250\n",
      "Z15     6273\n",
      "Z12     6162\n",
      "Z08     5754\n",
      "Name: 점포지역대분류코드, dtype: int64\n"
     ]
    },
    {
     "data": {
      "image/png": "[encoded data removed]",
      "text/plain": [
       "<Figure size 1584x864 with 1 Axes>"
      ]
     },
     "metadata": {
      "needs_background": "light"
     },
     "output_type": "display_data"
    },
    {
     "name": "stdout",
     "output_type": "stream",
     "text": [
      "2.111091e+14    4\n",
      "2.109302e+14    3\n",
      "2.105262e+14    3\n",
      "2.101062e+14    3\n",
      "2.107230e+14    3\n",
      "2.103182e+14    3\n",
      "2.104282e+14    2\n",
      "2.110311e+14    2\n",
      "2.111272e+14    2\n",
      "2.111061e+14    2\n",
      "Name: 엘페이 결제번호, dtype: int64\n"
     ]
    },
    {
     "data": {
      "image/png": "[encoded data removed]",
      "text/plain": [
       "<Figure size 1584x864 with 1 Axes>"
      ]
     },
     "metadata": {
      "needs_background": "light"
     },
     "output_type": "display_data"
    }
   ],
   "source": [
    "# 점포 정보 비교 (상위 10개만 비교)\n",
    "top_10_col = ['고객코드','점포지역중분류코드','거주지대분류코드','점포지역대분류코드','엘페이 결제번호']\n",
    "for col in top_10_col:\n",
    "  plt.figure(figsize=(22,12))\n",
    "  print(df_aff2[col].value_counts().head(10))\n",
    "  chart = sns.barplot(x = df_aff2[col].value_counts().head(10).index, y = df_aff2[col].value_counts().head(10))\n",
    "  chart.set_xticklabels(chart.get_xticklabels(),rotation=45)\n",
    "  plt.show()"
   ]
  },
  {
   "cell_type": "code",
   "execution_count": 69,
   "id": "634e5d52",
   "metadata": {},
   "outputs": [
    {
     "data": {
      "text/plain": [
       "C020002    26171\n",
       "E010001     5724\n",
       "C010011     5227\n",
       "C020004     2363\n",
       "C010014     2021\n",
       "C010102     1943\n",
       "B010012     1717\n",
       "C010003     1500\n",
       "D010968     1478\n",
       "B010016     1474\n",
       "C020001     1460\n",
       "D020023     1458\n",
       "C010004     1291\n",
       "C010096     1236\n",
       "C010033     1220\n",
       "C010046     1201\n",
       "C010010     1170\n",
       "B010014     1094\n",
       "D010388     1089\n",
       "D020013     1031\n",
       "C010047      987\n",
       "C010005      980\n",
       "D020485      966\n",
       "D020392      961\n",
       "B010004      898\n",
       "Name: 점포코드, dtype: int64"
      ]
     },
     "execution_count": 69,
     "metadata": {},
     "output_type": "execute_result"
    }
   ],
   "source": [
    "df_aff2['점포코드'].value_counts().head(25)"
   ]
  },
  {
   "cell_type": "code",
   "execution_count": 70,
   "id": "c0a65c61",
   "metadata": {},
   "outputs": [
    {
     "data": {
      "text/plain": [
       "Z17    81259\n",
       "Z10    64380\n",
       "Z16    22857\n",
       "Z11    14125\n",
       "Z04    13791\n",
       "Z06     8812\n",
       "Z13     7276\n",
       "Z14     6263\n",
       "Z08     5067\n",
       "Z15     4867\n",
       "Z12     4389\n",
       "Z03     4160\n",
       "Z09     3716\n",
       "Z05     3125\n",
       "Z01     2574\n",
       "Name: 거주지대분류코드, dtype: int64"
      ]
     },
     "execution_count": 70,
     "metadata": {},
     "output_type": "execute_result"
    }
   ],
   "source": [
    "df_aff2['거주지대분류코드'].value_counts().head(15)"
   ]
  },
  {
   "cell_type": "code",
   "execution_count": 71,
   "id": "906b6199",
   "metadata": {},
   "outputs": [
    {
     "data": {
      "text/plain": [
       "Z17018    47484\n",
       "Z17001     7192\n",
       "Z16007     5546\n",
       "Z17004     5469\n",
       "Z17020     4167\n",
       "Z17009     3411\n",
       "Z16015     3322\n",
       "Z10047     3310\n",
       "Z11004     3216\n",
       "Z17024     3180\n",
       "Z07002     3091\n",
       "Z17005     2968\n",
       "Z10020     2960\n",
       "Z17006     2955\n",
       "Z17021     2913\n",
       "Z16016     2710\n",
       "Z10028     2634\n",
       "Z10011     2432\n",
       "Z06013     2322\n",
       "Z17011     2286\n",
       "Z15003     2202\n",
       "Z04006     2183\n",
       "Z17013     2069\n",
       "Z15004     2042\n",
       "Z16006     1980\n",
       "Name: 점포지역중분류코드, dtype: int64"
      ]
     },
     "execution_count": 71,
     "metadata": {},
     "output_type": "execute_result"
    }
   ],
   "source": [
    "df_aff2['점포지역중분류코드'].value_counts().head(25)"
   ]
  },
  {
   "cell_type": "code",
   "execution_count": 72,
   "id": "86832814",
   "metadata": {},
   "outputs": [
    {
     "data": {
      "text/plain": [
       "Z17    99802\n",
       "Z10    43293\n",
       "Z16    22073\n",
       "Z11    12664\n",
       "Z04     9237\n",
       "Z06     8162\n",
       "Z14     7250\n",
       "Z15     6273\n",
       "Z12     6162\n",
       "Z08     5754\n",
       "Z05     5444\n",
       "Z01     4790\n",
       "Z13     4523\n",
       "Z09     4429\n",
       "Z07     4204\n",
       "Name: 점포지역대분류코드, dtype: int64"
      ]
     },
     "execution_count": 72,
     "metadata": {},
     "output_type": "execute_result"
    }
   ],
   "source": [
    "df_aff2['점포지역대분류코드'].value_counts().head(15)"
   ]
  },
  {
   "cell_type": "code",
   "execution_count": null,
   "id": "c34295e0",
   "metadata": {},
   "outputs": [],
   "source": []
  },
  {
   "cell_type": "code",
   "execution_count": null,
   "id": "3cc9de2b",
   "metadata": {},
   "outputs": [],
   "source": []
  },
  {
   "cell_type": "code",
   "execution_count": null,
   "id": "298e10c0",
   "metadata": {},
   "outputs": [],
   "source": []
  },
  {
   "cell_type": "code",
   "execution_count": 73,
   "id": "5c7ce525",
   "metadata": {},
   "outputs": [
    {
     "data": {
      "text/html": [
       "<div>\n",
       "<style scoped>\n",
       "    .dataframe tbody tr th:only-of-type {\n",
       "        vertical-align: middle;\n",
       "    }\n",
       "\n",
       "    .dataframe tbody tr th {\n",
       "        vertical-align: top;\n",
       "    }\n",
       "\n",
       "    .dataframe thead th {\n",
       "        text-align: right;\n",
       "    }\n",
       "</style>\n",
       "<table border=\"1\" class=\"dataframe\">\n",
       "  <thead>\n",
       "    <tr style=\"text-align: right;\">\n",
       "      <th></th>\n",
       "      <th>고객코드</th>\n",
       "      <th>영수증번호</th>\n",
       "      <th>채널구분</th>\n",
       "      <th>제휴사</th>\n",
       "      <th>점포코드</th>\n",
       "      <th>상품코드</th>\n",
       "      <th>구매일자</th>\n",
       "      <th>구매시간</th>\n",
       "      <th>구매금액</th>\n",
       "      <th>구매수량</th>\n",
       "      <th>...</th>\n",
       "      <th>성별</th>\n",
       "      <th>연령대</th>\n",
       "      <th>거주지대분류코드</th>\n",
       "      <th>점포지역대분류코드</th>\n",
       "      <th>점포지역중분류코드</th>\n",
       "      <th>상품 소분류명</th>\n",
       "      <th>상품 대분류명</th>\n",
       "      <th>상품 중분류명</th>\n",
       "      <th>엘페이 결제번호</th>\n",
       "      <th>엘페이 결제이력</th>\n",
       "    </tr>\n",
       "  </thead>\n",
       "  <tbody>\n",
       "    <tr>\n",
       "      <th>0</th>\n",
       "      <td>M430112881</td>\n",
       "      <td>A01000001113</td>\n",
       "      <td>1</td>\n",
       "      <td>A01</td>\n",
       "      <td>A010039</td>\n",
       "      <td>PD0290</td>\n",
       "      <td>20210101</td>\n",
       "      <td>10</td>\n",
       "      <td>15000</td>\n",
       "      <td>1.0</td>\n",
       "      <td>...</td>\n",
       "      <td>여성</td>\n",
       "      <td>50대</td>\n",
       "      <td>Z17</td>\n",
       "      <td>Z10</td>\n",
       "      <td>Z10042</td>\n",
       "      <td>남성티셔츠</td>\n",
       "      <td>남성의류</td>\n",
       "      <td>남성의류상의</td>\n",
       "      <td>NaN</td>\n",
       "      <td>0</td>\n",
       "    </tr>\n",
       "    <tr>\n",
       "      <th>1</th>\n",
       "      <td>M646853852</td>\n",
       "      <td>A01000002265</td>\n",
       "      <td>1</td>\n",
       "      <td>A01</td>\n",
       "      <td>A010025</td>\n",
       "      <td>PD1369</td>\n",
       "      <td>20210101</td>\n",
       "      <td>10</td>\n",
       "      <td>79700</td>\n",
       "      <td>1.0</td>\n",
       "      <td>...</td>\n",
       "      <td>여성</td>\n",
       "      <td>40대</td>\n",
       "      <td>Z13</td>\n",
       "      <td>Z13</td>\n",
       "      <td>Z13001</td>\n",
       "      <td>기타주방일회용품</td>\n",
       "      <td>주방잡화</td>\n",
       "      <td>주방일회용품</td>\n",
       "      <td>NaN</td>\n",
       "      <td>0</td>\n",
       "    </tr>\n",
       "    <tr>\n",
       "      <th>2</th>\n",
       "      <td>M430112881</td>\n",
       "      <td>A01000003148</td>\n",
       "      <td>1</td>\n",
       "      <td>A01</td>\n",
       "      <td>A010039</td>\n",
       "      <td>PD0290</td>\n",
       "      <td>20210101</td>\n",
       "      <td>10</td>\n",
       "      <td>19000</td>\n",
       "      <td>1.0</td>\n",
       "      <td>...</td>\n",
       "      <td>여성</td>\n",
       "      <td>50대</td>\n",
       "      <td>Z17</td>\n",
       "      <td>Z10</td>\n",
       "      <td>Z10042</td>\n",
       "      <td>남성티셔츠</td>\n",
       "      <td>남성의류</td>\n",
       "      <td>남성의류상의</td>\n",
       "      <td>NaN</td>\n",
       "      <td>0</td>\n",
       "    </tr>\n",
       "    <tr>\n",
       "      <th>3</th>\n",
       "      <td>M430112881</td>\n",
       "      <td>A01000004946</td>\n",
       "      <td>1</td>\n",
       "      <td>A01</td>\n",
       "      <td>A010039</td>\n",
       "      <td>PD0290</td>\n",
       "      <td>20210101</td>\n",
       "      <td>10</td>\n",
       "      <td>19000</td>\n",
       "      <td>1.0</td>\n",
       "      <td>...</td>\n",
       "      <td>여성</td>\n",
       "      <td>50대</td>\n",
       "      <td>Z17</td>\n",
       "      <td>Z10</td>\n",
       "      <td>Z10042</td>\n",
       "      <td>남성티셔츠</td>\n",
       "      <td>남성의류</td>\n",
       "      <td>남성의류상의</td>\n",
       "      <td>NaN</td>\n",
       "      <td>0</td>\n",
       "    </tr>\n",
       "    <tr>\n",
       "      <th>4</th>\n",
       "      <td>M430112881</td>\n",
       "      <td>A01000005297</td>\n",
       "      <td>1</td>\n",
       "      <td>A01</td>\n",
       "      <td>A010039</td>\n",
       "      <td>PD1692</td>\n",
       "      <td>20210101</td>\n",
       "      <td>10</td>\n",
       "      <td>9900</td>\n",
       "      <td>1.0</td>\n",
       "      <td>...</td>\n",
       "      <td>여성</td>\n",
       "      <td>50대</td>\n",
       "      <td>Z17</td>\n",
       "      <td>Z10</td>\n",
       "      <td>Z10042</td>\n",
       "      <td>커피/음료</td>\n",
       "      <td>테넌트/음식점</td>\n",
       "      <td>식당</td>\n",
       "      <td>NaN</td>\n",
       "      <td>0</td>\n",
       "    </tr>\n",
       "    <tr>\n",
       "      <th>...</th>\n",
       "      <td>...</td>\n",
       "      <td>...</td>\n",
       "      <td>...</td>\n",
       "      <td>...</td>\n",
       "      <td>...</td>\n",
       "      <td>...</td>\n",
       "      <td>...</td>\n",
       "      <td>...</td>\n",
       "      <td>...</td>\n",
       "      <td>...</td>\n",
       "      <td>...</td>\n",
       "      <td>...</td>\n",
       "      <td>...</td>\n",
       "      <td>...</td>\n",
       "      <td>...</td>\n",
       "      <td>...</td>\n",
       "      <td>...</td>\n",
       "      <td>...</td>\n",
       "      <td>...</td>\n",
       "      <td>...</td>\n",
       "      <td>...</td>\n",
       "    </tr>\n",
       "    <tr>\n",
       "      <th>4745872</th>\n",
       "      <td>M470112503</td>\n",
       "      <td>NaN</td>\n",
       "      <td>2</td>\n",
       "      <td>A06</td>\n",
       "      <td>NaN</td>\n",
       "      <td>NaN</td>\n",
       "      <td>20210125</td>\n",
       "      <td>11</td>\n",
       "      <td>51800</td>\n",
       "      <td>NaN</td>\n",
       "      <td>...</td>\n",
       "      <td>여성</td>\n",
       "      <td>50대</td>\n",
       "      <td>Z16</td>\n",
       "      <td>NaN</td>\n",
       "      <td>NaN</td>\n",
       "      <td>NaN</td>\n",
       "      <td>NaN</td>\n",
       "      <td>NaN</td>\n",
       "      <td>2.101251e+14</td>\n",
       "      <td>1</td>\n",
       "    </tr>\n",
       "    <tr>\n",
       "      <th>4745873</th>\n",
       "      <td>M470112503</td>\n",
       "      <td>NaN</td>\n",
       "      <td>2</td>\n",
       "      <td>A06</td>\n",
       "      <td>NaN</td>\n",
       "      <td>NaN</td>\n",
       "      <td>20210104</td>\n",
       "      <td>21</td>\n",
       "      <td>6440</td>\n",
       "      <td>NaN</td>\n",
       "      <td>...</td>\n",
       "      <td>여성</td>\n",
       "      <td>50대</td>\n",
       "      <td>Z16</td>\n",
       "      <td>NaN</td>\n",
       "      <td>NaN</td>\n",
       "      <td>NaN</td>\n",
       "      <td>NaN</td>\n",
       "      <td>NaN</td>\n",
       "      <td>2.101042e+14</td>\n",
       "      <td>1</td>\n",
       "    </tr>\n",
       "    <tr>\n",
       "      <th>4745874</th>\n",
       "      <td>M748878049</td>\n",
       "      <td>NaN</td>\n",
       "      <td>1</td>\n",
       "      <td>A02</td>\n",
       "      <td>NaN</td>\n",
       "      <td>NaN</td>\n",
       "      <td>20210119</td>\n",
       "      <td>20</td>\n",
       "      <td>17600</td>\n",
       "      <td>NaN</td>\n",
       "      <td>...</td>\n",
       "      <td>여성</td>\n",
       "      <td>30대</td>\n",
       "      <td>Z10</td>\n",
       "      <td>NaN</td>\n",
       "      <td>NaN</td>\n",
       "      <td>NaN</td>\n",
       "      <td>NaN</td>\n",
       "      <td>NaN</td>\n",
       "      <td>2.101192e+14</td>\n",
       "      <td>1</td>\n",
       "    </tr>\n",
       "    <tr>\n",
       "      <th>4745875</th>\n",
       "      <td>M748878049</td>\n",
       "      <td>NaN</td>\n",
       "      <td>1</td>\n",
       "      <td>A02</td>\n",
       "      <td>NaN</td>\n",
       "      <td>NaN</td>\n",
       "      <td>20210119</td>\n",
       "      <td>18</td>\n",
       "      <td>12400</td>\n",
       "      <td>NaN</td>\n",
       "      <td>...</td>\n",
       "      <td>여성</td>\n",
       "      <td>30대</td>\n",
       "      <td>Z10</td>\n",
       "      <td>NaN</td>\n",
       "      <td>NaN</td>\n",
       "      <td>NaN</td>\n",
       "      <td>NaN</td>\n",
       "      <td>NaN</td>\n",
       "      <td>2.101192e+14</td>\n",
       "      <td>1</td>\n",
       "    </tr>\n",
       "    <tr>\n",
       "      <th>4745876</th>\n",
       "      <td>M748878049</td>\n",
       "      <td>NaN</td>\n",
       "      <td>2</td>\n",
       "      <td>C01</td>\n",
       "      <td>NaN</td>\n",
       "      <td>NaN</td>\n",
       "      <td>20210119</td>\n",
       "      <td>15</td>\n",
       "      <td>5000</td>\n",
       "      <td>NaN</td>\n",
       "      <td>...</td>\n",
       "      <td>여성</td>\n",
       "      <td>30대</td>\n",
       "      <td>Z10</td>\n",
       "      <td>NaN</td>\n",
       "      <td>NaN</td>\n",
       "      <td>NaN</td>\n",
       "      <td>NaN</td>\n",
       "      <td>NaN</td>\n",
       "      <td>2.101192e+14</td>\n",
       "      <td>1</td>\n",
       "    </tr>\n",
       "  </tbody>\n",
       "</table>\n",
       "<p>4745877 rows × 21 columns</p>\n",
       "</div>"
      ],
      "text/plain": [
       "               고객코드         영수증번호  채널구분  제휴사     점포코드    상품코드      구매일자  구매시간  \\\n",
       "0        M430112881  A01000001113     1  A01  A010039  PD0290  20210101    10   \n",
       "1        M646853852  A01000002265     1  A01  A010025  PD1369  20210101    10   \n",
       "2        M430112881  A01000003148     1  A01  A010039  PD0290  20210101    10   \n",
       "3        M430112881  A01000004946     1  A01  A010039  PD0290  20210101    10   \n",
       "4        M430112881  A01000005297     1  A01  A010039  PD1692  20210101    10   \n",
       "...             ...           ...   ...  ...      ...     ...       ...   ...   \n",
       "4745872  M470112503           NaN     2  A06      NaN     NaN  20210125    11   \n",
       "4745873  M470112503           NaN     2  A06      NaN     NaN  20210104    21   \n",
       "4745874  M748878049           NaN     1  A02      NaN     NaN  20210119    20   \n",
       "4745875  M748878049           NaN     1  A02      NaN     NaN  20210119    18   \n",
       "4745876  M748878049           NaN     2  C01      NaN     NaN  20210119    15   \n",
       "\n",
       "          구매금액  구매수량  ...  성별  연령대 거주지대분류코드 점포지역대분류코드 점포지역중분류코드   상품 소분류명  \\\n",
       "0        15000   1.0  ...  여성  50대      Z17       Z10    Z10042     남성티셔츠   \n",
       "1        79700   1.0  ...  여성  40대      Z13       Z13    Z13001  기타주방일회용품   \n",
       "2        19000   1.0  ...  여성  50대      Z17       Z10    Z10042     남성티셔츠   \n",
       "3        19000   1.0  ...  여성  50대      Z17       Z10    Z10042     남성티셔츠   \n",
       "4         9900   1.0  ...  여성  50대      Z17       Z10    Z10042     커피/음료   \n",
       "...        ...   ...  ...  ..  ...      ...       ...       ...       ...   \n",
       "4745872  51800   NaN  ...  여성  50대      Z16       NaN       NaN       NaN   \n",
       "4745873   6440   NaN  ...  여성  50대      Z16       NaN       NaN       NaN   \n",
       "4745874  17600   NaN  ...  여성  30대      Z10       NaN       NaN       NaN   \n",
       "4745875  12400   NaN  ...  여성  30대      Z10       NaN       NaN       NaN   \n",
       "4745876   5000   NaN  ...  여성  30대      Z10       NaN       NaN       NaN   \n",
       "\n",
       "         상품 대분류명 상품 중분류명      엘페이 결제번호  엘페이 결제이력  \n",
       "0           남성의류  남성의류상의           NaN         0  \n",
       "1           주방잡화  주방일회용품           NaN         0  \n",
       "2           남성의류  남성의류상의           NaN         0  \n",
       "3           남성의류  남성의류상의           NaN         0  \n",
       "4        테넌트/음식점      식당           NaN         0  \n",
       "...          ...     ...           ...       ...  \n",
       "4745872      NaN     NaN  2.101251e+14         1  \n",
       "4745873      NaN     NaN  2.101042e+14         1  \n",
       "4745874      NaN     NaN  2.101192e+14         1  \n",
       "4745875      NaN     NaN  2.101192e+14         1  \n",
       "4745876      NaN     NaN  2.101192e+14         1  \n",
       "\n",
       "[4745877 rows x 21 columns]"
      ]
     },
     "execution_count": 73,
     "metadata": {},
     "output_type": "execute_result"
    }
   ],
   "source": [
    "df"
   ]
  },
  {
   "cell_type": "code",
   "execution_count": 74,
   "id": "5de6d96d",
   "metadata": {},
   "outputs": [],
   "source": [
    "df['타입'] = df['타입'].fillna('Lpay')"
   ]
  },
  {
   "cell_type": "code",
   "execution_count": 37,
   "id": "e31a1fd4",
   "metadata": {},
   "outputs": [],
   "source": [
    "for i in df.index:\n",
    "    if df.loc[i,'타입'] == 'Lpay':\n",
    "        df.loc[i,'영수증번호'] = df.loc[i,'엘페이 결제번호']"
   ]
  },
  {
   "cell_type": "code",
   "execution_count": 38,
   "id": "ed77ea46",
   "metadata": {},
   "outputs": [
    {
     "data": {
      "text/plain": [
       "array(['Product', 'Affiliate', 'Lpay'], dtype=object)"
      ]
     },
     "execution_count": 38,
     "metadata": {},
     "output_type": "execute_result"
    }
   ],
   "source": [
    "df['타입'].unique()"
   ]
  },
  {
   "cell_type": "code",
   "execution_count": 39,
   "id": "615d5c4f",
   "metadata": {},
   "outputs": [
    {
     "data": {
      "text/html": [
       "<div>\n",
       "<style scoped>\n",
       "    .dataframe tbody tr th:only-of-type {\n",
       "        vertical-align: middle;\n",
       "    }\n",
       "\n",
       "    .dataframe tbody tr th {\n",
       "        vertical-align: top;\n",
       "    }\n",
       "\n",
       "    .dataframe thead th {\n",
       "        text-align: right;\n",
       "    }\n",
       "</style>\n",
       "<table border=\"1\" class=\"dataframe\">\n",
       "  <thead>\n",
       "    <tr style=\"text-align: right;\">\n",
       "      <th></th>\n",
       "      <th>고객코드</th>\n",
       "      <th>영수증번호</th>\n",
       "      <th>채널구분</th>\n",
       "      <th>제휴사</th>\n",
       "      <th>점포코드</th>\n",
       "      <th>상품코드</th>\n",
       "      <th>구매일자</th>\n",
       "      <th>구매시간</th>\n",
       "      <th>구매금액</th>\n",
       "      <th>구매수량</th>\n",
       "      <th>...</th>\n",
       "      <th>성별</th>\n",
       "      <th>연령대</th>\n",
       "      <th>거주지대분류코드</th>\n",
       "      <th>점포지역대분류코드</th>\n",
       "      <th>점포지역중분류코드</th>\n",
       "      <th>상품 소분류명</th>\n",
       "      <th>상품 대분류명</th>\n",
       "      <th>상품 중분류명</th>\n",
       "      <th>엘페이 결제번호</th>\n",
       "      <th>엘페이 결제이력</th>\n",
       "    </tr>\n",
       "  </thead>\n",
       "  <tbody>\n",
       "    <tr>\n",
       "      <th>0</th>\n",
       "      <td>M430112881</td>\n",
       "      <td>A01000001113</td>\n",
       "      <td>1</td>\n",
       "      <td>A01</td>\n",
       "      <td>A010039</td>\n",
       "      <td>PD0290</td>\n",
       "      <td>20210101</td>\n",
       "      <td>10</td>\n",
       "      <td>15000</td>\n",
       "      <td>1.0</td>\n",
       "      <td>...</td>\n",
       "      <td>여성</td>\n",
       "      <td>50대</td>\n",
       "      <td>Z17</td>\n",
       "      <td>Z10</td>\n",
       "      <td>Z10042</td>\n",
       "      <td>남성티셔츠</td>\n",
       "      <td>남성의류</td>\n",
       "      <td>남성의류상의</td>\n",
       "      <td>NaN</td>\n",
       "      <td>0</td>\n",
       "    </tr>\n",
       "    <tr>\n",
       "      <th>1</th>\n",
       "      <td>M646853852</td>\n",
       "      <td>A01000002265</td>\n",
       "      <td>1</td>\n",
       "      <td>A01</td>\n",
       "      <td>A010025</td>\n",
       "      <td>PD1369</td>\n",
       "      <td>20210101</td>\n",
       "      <td>10</td>\n",
       "      <td>79700</td>\n",
       "      <td>1.0</td>\n",
       "      <td>...</td>\n",
       "      <td>여성</td>\n",
       "      <td>40대</td>\n",
       "      <td>Z13</td>\n",
       "      <td>Z13</td>\n",
       "      <td>Z13001</td>\n",
       "      <td>기타주방일회용품</td>\n",
       "      <td>주방잡화</td>\n",
       "      <td>주방일회용품</td>\n",
       "      <td>NaN</td>\n",
       "      <td>0</td>\n",
       "    </tr>\n",
       "    <tr>\n",
       "      <th>2</th>\n",
       "      <td>M430112881</td>\n",
       "      <td>A01000003148</td>\n",
       "      <td>1</td>\n",
       "      <td>A01</td>\n",
       "      <td>A010039</td>\n",
       "      <td>PD0290</td>\n",
       "      <td>20210101</td>\n",
       "      <td>10</td>\n",
       "      <td>19000</td>\n",
       "      <td>1.0</td>\n",
       "      <td>...</td>\n",
       "      <td>여성</td>\n",
       "      <td>50대</td>\n",
       "      <td>Z17</td>\n",
       "      <td>Z10</td>\n",
       "      <td>Z10042</td>\n",
       "      <td>남성티셔츠</td>\n",
       "      <td>남성의류</td>\n",
       "      <td>남성의류상의</td>\n",
       "      <td>NaN</td>\n",
       "      <td>0</td>\n",
       "    </tr>\n",
       "    <tr>\n",
       "      <th>3</th>\n",
       "      <td>M430112881</td>\n",
       "      <td>A01000004946</td>\n",
       "      <td>1</td>\n",
       "      <td>A01</td>\n",
       "      <td>A010039</td>\n",
       "      <td>PD0290</td>\n",
       "      <td>20210101</td>\n",
       "      <td>10</td>\n",
       "      <td>19000</td>\n",
       "      <td>1.0</td>\n",
       "      <td>...</td>\n",
       "      <td>여성</td>\n",
       "      <td>50대</td>\n",
       "      <td>Z17</td>\n",
       "      <td>Z10</td>\n",
       "      <td>Z10042</td>\n",
       "      <td>남성티셔츠</td>\n",
       "      <td>남성의류</td>\n",
       "      <td>남성의류상의</td>\n",
       "      <td>NaN</td>\n",
       "      <td>0</td>\n",
       "    </tr>\n",
       "    <tr>\n",
       "      <th>4</th>\n",
       "      <td>M430112881</td>\n",
       "      <td>A01000005297</td>\n",
       "      <td>1</td>\n",
       "      <td>A01</td>\n",
       "      <td>A010039</td>\n",
       "      <td>PD1692</td>\n",
       "      <td>20210101</td>\n",
       "      <td>10</td>\n",
       "      <td>9900</td>\n",
       "      <td>1.0</td>\n",
       "      <td>...</td>\n",
       "      <td>여성</td>\n",
       "      <td>50대</td>\n",
       "      <td>Z17</td>\n",
       "      <td>Z10</td>\n",
       "      <td>Z10042</td>\n",
       "      <td>커피/음료</td>\n",
       "      <td>테넌트/음식점</td>\n",
       "      <td>식당</td>\n",
       "      <td>NaN</td>\n",
       "      <td>0</td>\n",
       "    </tr>\n",
       "    <tr>\n",
       "      <th>...</th>\n",
       "      <td>...</td>\n",
       "      <td>...</td>\n",
       "      <td>...</td>\n",
       "      <td>...</td>\n",
       "      <td>...</td>\n",
       "      <td>...</td>\n",
       "      <td>...</td>\n",
       "      <td>...</td>\n",
       "      <td>...</td>\n",
       "      <td>...</td>\n",
       "      <td>...</td>\n",
       "      <td>...</td>\n",
       "      <td>...</td>\n",
       "      <td>...</td>\n",
       "      <td>...</td>\n",
       "      <td>...</td>\n",
       "      <td>...</td>\n",
       "      <td>...</td>\n",
       "      <td>...</td>\n",
       "      <td>...</td>\n",
       "      <td>...</td>\n",
       "    </tr>\n",
       "    <tr>\n",
       "      <th>4745872</th>\n",
       "      <td>M470112503</td>\n",
       "      <td>210125110644545.0</td>\n",
       "      <td>2</td>\n",
       "      <td>A06</td>\n",
       "      <td>NaN</td>\n",
       "      <td>NaN</td>\n",
       "      <td>20210125</td>\n",
       "      <td>11</td>\n",
       "      <td>51800</td>\n",
       "      <td>NaN</td>\n",
       "      <td>...</td>\n",
       "      <td>여성</td>\n",
       "      <td>50대</td>\n",
       "      <td>Z16</td>\n",
       "      <td>NaN</td>\n",
       "      <td>NaN</td>\n",
       "      <td>NaN</td>\n",
       "      <td>NaN</td>\n",
       "      <td>NaN</td>\n",
       "      <td>2.101251e+14</td>\n",
       "      <td>1</td>\n",
       "    </tr>\n",
       "    <tr>\n",
       "      <th>4745873</th>\n",
       "      <td>M470112503</td>\n",
       "      <td>210104210652271.0</td>\n",
       "      <td>2</td>\n",
       "      <td>A06</td>\n",
       "      <td>NaN</td>\n",
       "      <td>NaN</td>\n",
       "      <td>20210104</td>\n",
       "      <td>21</td>\n",
       "      <td>6440</td>\n",
       "      <td>NaN</td>\n",
       "      <td>...</td>\n",
       "      <td>여성</td>\n",
       "      <td>50대</td>\n",
       "      <td>Z16</td>\n",
       "      <td>NaN</td>\n",
       "      <td>NaN</td>\n",
       "      <td>NaN</td>\n",
       "      <td>NaN</td>\n",
       "      <td>NaN</td>\n",
       "      <td>2.101042e+14</td>\n",
       "      <td>1</td>\n",
       "    </tr>\n",
       "    <tr>\n",
       "      <th>4745874</th>\n",
       "      <td>M748878049</td>\n",
       "      <td>210119200278240.0</td>\n",
       "      <td>1</td>\n",
       "      <td>A02</td>\n",
       "      <td>NaN</td>\n",
       "      <td>NaN</td>\n",
       "      <td>20210119</td>\n",
       "      <td>20</td>\n",
       "      <td>17600</td>\n",
       "      <td>NaN</td>\n",
       "      <td>...</td>\n",
       "      <td>여성</td>\n",
       "      <td>30대</td>\n",
       "      <td>Z10</td>\n",
       "      <td>NaN</td>\n",
       "      <td>NaN</td>\n",
       "      <td>NaN</td>\n",
       "      <td>NaN</td>\n",
       "      <td>NaN</td>\n",
       "      <td>2.101192e+14</td>\n",
       "      <td>1</td>\n",
       "    </tr>\n",
       "    <tr>\n",
       "      <th>4745875</th>\n",
       "      <td>M748878049</td>\n",
       "      <td>210119180267206.0</td>\n",
       "      <td>1</td>\n",
       "      <td>A02</td>\n",
       "      <td>NaN</td>\n",
       "      <td>NaN</td>\n",
       "      <td>20210119</td>\n",
       "      <td>18</td>\n",
       "      <td>12400</td>\n",
       "      <td>NaN</td>\n",
       "      <td>...</td>\n",
       "      <td>여성</td>\n",
       "      <td>30대</td>\n",
       "      <td>Z10</td>\n",
       "      <td>NaN</td>\n",
       "      <td>NaN</td>\n",
       "      <td>NaN</td>\n",
       "      <td>NaN</td>\n",
       "      <td>NaN</td>\n",
       "      <td>2.101192e+14</td>\n",
       "      <td>1</td>\n",
       "    </tr>\n",
       "    <tr>\n",
       "      <th>4745876</th>\n",
       "      <td>M748878049</td>\n",
       "      <td>210119150154756.0</td>\n",
       "      <td>2</td>\n",
       "      <td>C01</td>\n",
       "      <td>NaN</td>\n",
       "      <td>NaN</td>\n",
       "      <td>20210119</td>\n",
       "      <td>15</td>\n",
       "      <td>5000</td>\n",
       "      <td>NaN</td>\n",
       "      <td>...</td>\n",
       "      <td>여성</td>\n",
       "      <td>30대</td>\n",
       "      <td>Z10</td>\n",
       "      <td>NaN</td>\n",
       "      <td>NaN</td>\n",
       "      <td>NaN</td>\n",
       "      <td>NaN</td>\n",
       "      <td>NaN</td>\n",
       "      <td>2.101192e+14</td>\n",
       "      <td>1</td>\n",
       "    </tr>\n",
       "  </tbody>\n",
       "</table>\n",
       "<p>4745877 rows × 21 columns</p>\n",
       "</div>"
      ],
      "text/plain": [
       "               고객코드              영수증번호  채널구분  제휴사     점포코드    상품코드      구매일자  \\\n",
       "0        M430112881       A01000001113     1  A01  A010039  PD0290  20210101   \n",
       "1        M646853852       A01000002265     1  A01  A010025  PD1369  20210101   \n",
       "2        M430112881       A01000003148     1  A01  A010039  PD0290  20210101   \n",
       "3        M430112881       A01000004946     1  A01  A010039  PD0290  20210101   \n",
       "4        M430112881       A01000005297     1  A01  A010039  PD1692  20210101   \n",
       "...             ...                ...   ...  ...      ...     ...       ...   \n",
       "4745872  M470112503  210125110644545.0     2  A06      NaN     NaN  20210125   \n",
       "4745873  M470112503  210104210652271.0     2  A06      NaN     NaN  20210104   \n",
       "4745874  M748878049  210119200278240.0     1  A02      NaN     NaN  20210119   \n",
       "4745875  M748878049  210119180267206.0     1  A02      NaN     NaN  20210119   \n",
       "4745876  M748878049  210119150154756.0     2  C01      NaN     NaN  20210119   \n",
       "\n",
       "         구매시간   구매금액  구매수량  ...  성별  연령대 거주지대분류코드 점포지역대분류코드 점포지역중분류코드  \\\n",
       "0          10  15000   1.0  ...  여성  50대      Z17       Z10    Z10042   \n",
       "1          10  79700   1.0  ...  여성  40대      Z13       Z13    Z13001   \n",
       "2          10  19000   1.0  ...  여성  50대      Z17       Z10    Z10042   \n",
       "3          10  19000   1.0  ...  여성  50대      Z17       Z10    Z10042   \n",
       "4          10   9900   1.0  ...  여성  50대      Z17       Z10    Z10042   \n",
       "...       ...    ...   ...  ...  ..  ...      ...       ...       ...   \n",
       "4745872    11  51800   NaN  ...  여성  50대      Z16       NaN       NaN   \n",
       "4745873    21   6440   NaN  ...  여성  50대      Z16       NaN       NaN   \n",
       "4745874    20  17600   NaN  ...  여성  30대      Z10       NaN       NaN   \n",
       "4745875    18  12400   NaN  ...  여성  30대      Z10       NaN       NaN   \n",
       "4745876    15   5000   NaN  ...  여성  30대      Z10       NaN       NaN   \n",
       "\n",
       "          상품 소분류명  상품 대분류명 상품 중분류명      엘페이 결제번호  엘페이 결제이력  \n",
       "0           남성티셔츠     남성의류  남성의류상의           NaN         0  \n",
       "1        기타주방일회용품     주방잡화  주방일회용품           NaN         0  \n",
       "2           남성티셔츠     남성의류  남성의류상의           NaN         0  \n",
       "3           남성티셔츠     남성의류  남성의류상의           NaN         0  \n",
       "4           커피/음료  테넌트/음식점      식당           NaN         0  \n",
       "...           ...      ...     ...           ...       ...  \n",
       "4745872       NaN      NaN     NaN  2.101251e+14         1  \n",
       "4745873       NaN      NaN     NaN  2.101042e+14         1  \n",
       "4745874       NaN      NaN     NaN  2.101192e+14         1  \n",
       "4745875       NaN      NaN     NaN  2.101192e+14         1  \n",
       "4745876       NaN      NaN     NaN  2.101192e+14         1  \n",
       "\n",
       "[4745877 rows x 21 columns]"
      ]
     },
     "execution_count": 39,
     "metadata": {},
     "output_type": "execute_result"
    }
   ],
   "source": [
    "df"
   ]
  },
  {
   "cell_type": "code",
   "execution_count": 40,
   "id": "fa87cf51",
   "metadata": {},
   "outputs": [],
   "source": [
    "df.drop(['엘페이 결제번호'],axis=1,inplace=True)"
   ]
  },
  {
   "cell_type": "code",
   "execution_count": 41,
   "id": "09505921",
   "metadata": {},
   "outputs": [],
   "source": [
    "df.to_csv('C:/Users/wnrrh/desktop/0719.csv',encoding='utf-8', index=False)"
   ]
  },
  {
   "cell_type": "code",
   "execution_count": null,
   "id": "d5f3daa1",
   "metadata": {},
   "outputs": [],
   "source": []
  },
  {
   "cell_type": "code",
   "execution_count": null,
   "id": "6f00217a",
   "metadata": {},
   "outputs": [],
   "source": []
  },
  {
   "cell_type": "code",
   "execution_count": null,
   "id": "bd750107",
   "metadata": {},
   "outputs": [],
   "source": []
  },
  {
   "cell_type": "code",
   "execution_count": null,
   "id": "9372212d",
   "metadata": {},
   "outputs": [],
   "source": []
  },
  {
   "cell_type": "code",
   "execution_count": null,
   "id": "a3aaae02",
   "metadata": {},
   "outputs": [],
   "source": []
  }
 ],
 "metadata": {
  "kernelspec": {
   "display_name": "Python 3 (ipykernel)",
   "language": "python",
   "name": "python3"
  },
  "language_info": {
   "codemirror_mode": {
    "name": "ipython",
    "version": 3
   },
   "file_extension": ".py",
   "mimetype": "text/x-python",
   "name": "python",
   "nbconvert_exporter": "python",
   "pygments_lexer": "ipython3",
   "version": "3.8.12"
  },
  "toc": {
   "base_numbering": 1,
   "nav_menu": {},
   "number_sections": true,
   "sideBar": true,
   "skip_h1_title": false,
   "title_cell": "Table of Contents",
   "title_sidebar": "Contents",
   "toc_cell": false,
   "toc_position": {
    "height": "calc(100% - 180px)",
    "left": "10px",
    "top": "150px",
    "width": "224px"
   },
   "toc_section_display": true,
   "toc_window_display": true
  },
  "varInspector": {
   "cols": {
    "lenName": 16,
    "lenType": 16,
    "lenVar": 40
   },
   "kernels_config": {
    "python": {
     "delete_cmd_postfix": "",
     "delete_cmd_prefix": "del ",
     "library": "var_list.py",
     "varRefreshCmd": "print(var_dic_list())"
    },
    "r": {
     "delete_cmd_postfix": ") ",
     "delete_cmd_prefix": "rm(",
     "library": "var_list.r",
     "varRefreshCmd": "cat(var_dic_list()) "
    }
   },
   "types_to_exclude": [
    "module",
    "function",
    "builtin_function_or_method",
    "instance",
    "_Feature"
   ],
   "window_display": false
  }
 },
 "nbformat": 4,
 "nbformat_minor": 5
}
